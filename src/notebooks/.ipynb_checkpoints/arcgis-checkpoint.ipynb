{
 "cells": [
  {
   "cell_type": "markdown",
   "id": "7198b30a",
   "metadata": {},
   "source": [
    "# ARCGIS"
   ]
  },
  {
   "cell_type": "code",
   "execution_count": 1,
   "id": "2805eefa",
   "metadata": {},
   "outputs": [],
   "source": [
    "import os\n",
    "import pandas as pd"
   ]
  },
  {
   "cell_type": "code",
   "execution_count": 2,
   "id": "0558105e",
   "metadata": {},
   "outputs": [],
   "source": [
    "arcgis_path = '../../data/arcgis'"
   ]
  },
  {
   "cell_type": "markdown",
   "id": "80a6988e",
   "metadata": {},
   "source": [
    "## Merging\n",
    "I will directly merge the manipulated and cleaned files into the master"
   ]
  },
  {
   "cell_type": "code",
   "execution_count": 6,
   "id": "fce1e02e",
   "metadata": {},
   "outputs": [],
   "source": [
    "custom_data_directory = '../../data/custom_data'"
   ]
  },
  {
   "cell_type": "code",
   "execution_count": 7,
   "id": "c19a1dfd",
   "metadata": {},
   "outputs": [],
   "source": [
    "master_arcgis = pd.DataFrame()"
   ]
  },
  {
   "cell_type": "markdown",
   "id": "16fae674",
   "metadata": {},
   "source": [
    "## Name Match\n",
    "Since they aren't homogenous I will namematch them with fuzzy logic"
   ]
  },
  {
   "cell_type": "code",
   "execution_count": 8,
   "id": "18484429",
   "metadata": {},
   "outputs": [
    {
     "name": "stderr",
     "output_type": "stream",
     "text": [
      "/Users/galileo/.pyenv/versions/3.10.12/lib/python3.10/site-packages/fuzzywuzzy/fuzz.py:11: UserWarning: Using slow pure-python SequenceMatcher. Install python-Levenshtein to remove this warning\n",
      "  warnings.warn('Using slow pure-python SequenceMatcher. Install python-Levenshtein to remove this warning')\n"
     ]
    }
   ],
   "source": [
    "from fuzzywuzzy import process, fuzz\n",
    "\n",
    "def clean_location_name(name):\n",
    "    '''\n",
    "    Cleans location names by removing common suffixes that skew fuzzy matching.\n",
    "    '''\n",
    "    ignore_suffixes = [\"census designated place\", \"city\", \"road\", \"street\", \"highway\", \"borough\", \"area\", \"island\"]\n",
    "    for suffix in ignore_suffixes:\n",
    "        if name.lower().endswith(suffix):\n",
    "            name = name.rsplit(suffix, 1)[0].strip()\n",
    "    return name\n",
    "\n",
    "def match_names(trusted_df, trusted_col, other_df, other_col):\n",
    "    '''\n",
    "    Matches names between two dataframe columns, automatically rejecting low-confidence matches.\n",
    "    \n",
    "    Returns:\n",
    "    - Matched DataFrame with original and final names\n",
    "    - Unmatched names for manual review\n",
    "    '''\n",
    "\n",
    "    # Clean and strip names\n",
    "    trusted_unique = set(trusted_df[trusted_col].astype(str).str.strip().str.lower().apply(clean_location_name).unique())\n",
    "    other_unique = set(other_df[other_col].astype(str).str.strip().str.lower().apply(clean_location_name).unique())\n",
    "\n",
    "    matched_other_to_trusted = {}\n",
    "    unmatched_names = []\n",
    "\n",
    "    for name in other_unique:\n",
    "        for trusted_name in trusted_unique:\n",
    "            if trusted_name in name or name in trusted_name:\n",
    "                matched_other_to_trusted[name] = trusted_name\n",
    "                break\n",
    "        else:\n",
    "            match, score = process.extractOne(name, list(trusted_unique), scorer=fuzz.token_sort_ratio)\n",
    "            \n",
    "            if score >= 95:  # Almost perfect match\n",
    "                matched_other_to_trusted[name] = match\n",
    "            else:\n",
    "                unmatched_names.append(name)  # Log unmatched names\n",
    "\n",
    "    matched_df = pd.DataFrame(list(matched_other_to_trusted.items()), columns=[\"Original\", \"Matched\"])\n",
    "    unmatched_df = pd.DataFrame(unmatched_names, columns=[\"Unmatched\"])\n",
    "\n",
    "    return matched_df, unmatched_df"
   ]
  },
  {
   "cell_type": "markdown",
   "id": "790ebbc7",
   "metadata": {},
   "source": [
    "## Borough and census area\n",
    "This file is peculiar because it serves as bridge between others. I will save it as its own because of the flexibility this brings in the master merge operations (being able to merge and manipulate data without the whole arcgis overhead."
   ]
  },
  {
   "cell_type": "code",
   "execution_count": 9,
   "id": "9672a1e7",
   "metadata": {},
   "outputs": [
    {
     "data": {
      "text/plain": [
       "Index(['X', 'Y', 'OBJECTID', 'CommunityID', 'CommunityName',\n",
       "       'IncorporationType', 'AreaType', 'BoroughCensusArea',\n",
       "       'ANCSARegionalCorporation', 'NativeRegionalHealthCarePro',\n",
       "       'ANCSARegionalNonProfit', 'SchoolDistrict', 'DCRAAlaskaRegion',\n",
       "       'ClimateRegion', 'EnergyRegion', 'EconomicRegion', 'ARDORRegion',\n",
       "       'RecordersOffice', 'Section', 'Township', 'Range', 'Meridian',\n",
       "       'sqMiLand', 'sqMiWater'],\n",
       "      dtype='object')"
      ]
     },
     "execution_count": 9,
     "metadata": {},
     "output_type": "execute_result"
    }
   ],
   "source": [
    "comm_and_reg = pd.read_csv(os.path.join(arcgis_path, 'Community_Regions_Overview.csv'))\n",
    "comm_and_reg.columns"
   ]
  },
  {
   "cell_type": "code",
   "execution_count": 10,
   "id": "5d8c7faa",
   "metadata": {},
   "outputs": [],
   "source": [
    "comm_and_reg_columns_to_keep = ['CommunityName',\n",
    "       'IncorporationType', 'BoroughCensusArea',\n",
    "       'NativeRegionalHealthCarePro',\n",
    "       'SchoolDistrict', 'ClimateRegion', 'EnergyRegion', 'EconomicRegion',\n",
    "       'sqMiLand', 'sqMiWater']\n",
    "comm_and_reg = comm_and_reg[comm_and_reg_columns_to_keep]"
   ]
  },
  {
   "cell_type": "code",
   "execution_count": 11,
   "id": "e747b4f6",
   "metadata": {},
   "outputs": [],
   "source": [
    "custom_data_directory = '../../data/custom_data'\n",
    "comm_and_reg.to_csv(os.path.join(custom_data_directory, 'comm_and_reg_custom.csv'))"
   ]
  },
  {
   "cell_type": "markdown",
   "id": "c2202dfc",
   "metadata": {},
   "source": [
    "## ACS Files"
   ]
  },
  {
   "cell_type": "markdown",
   "id": "0939e566",
   "metadata": {},
   "source": [
    "Files being studied and merged:\n",
    "- Household income and benefits: https://dcra-cdo-dcced.opendata.arcgis.com/datasets/5b535254c9f649f9b7ffe52a476052c4_3/explore\n",
    "- Family Income and Benefits: https://dcra-cdo-dcced.opendata.arcgis.com/datasets/5b535254c9f649f9b7ffe52a476052c4_3/explore?location=50.133297%2C34.600000%2C3.89\n",
    "- Income and Poverty: https://dcra-cdo-dcced.opendata.arcgis.com/datasets/f4b63e8b2c3042a98130505df1422730_9/explore?location=50.133297%2C34.600000%2C3.89\n",
    "- Population Characteristics Housing: https://dcra-cdo-dcced.opendata.arcgis.com/datasets/14f0b44db2da4f55b2adf7bb5602bead_6/explore\n",
    "- Population Characteristics Race: https://dcra-cdo-dcced.opendata.arcgis.com/datasets/30ab75bf594f48349c4ff536957869f8_1/explore?location=42.493141%2C34.600000%2C3.48\n",
    "- Population Characteristics Sex: https://dcra-cdo-dcced.opendata.arcgis.com/datasets/fa3ad93528b24f7c9ba298a68c04920d_0/explore?location=45.540112%2C34.600000%2C3.63\n",
    "- Population Characteristics Age: https://dcra-cdo-dcced.opendata.arcgis.com/datasets/63cb9ba34b914f7c89a2394b47d4319e_5/explore?location=46.265046%2C34.600000%2C3.67"
   ]
  },
  {
   "cell_type": "markdown",
   "id": "a2fcda48",
   "metadata": {},
   "source": [
    "### Timing convention\n",
    "Since the data spans 5 year intervals, being the mean of these intervals, I just take the end year as representation.This isn't perfect, but the best way to not go assume linearity or growth distributions."
   ]
  },
  {
   "cell_type": "markdown",
   "id": "bab83f25",
   "metadata": {},
   "source": [
    "### Merging into master_arcgis"
   ]
  },
  {
   "cell_type": "code",
   "execution_count": 12,
   "id": "3fa85d1a",
   "metadata": {
    "scrolled": true
   },
   "outputs": [
    {
     "data": {
      "text/plain": [
       "Index(['X', 'Y', 'OBJECTID', 'Place', 'Geo_Src', 'e_Pop_Age_Total',\n",
       "       'm_Pop_Age_Total', 'e_Pop_Age_under_5', 'm_Pop_Age_under_5',\n",
       "       'e_Pop_Age_5_9', 'm_Pop_Age_5_9', 'e_Pop_Age_10_14', 'm_Pop_Age_10_14',\n",
       "       'e_Pop_Age_15_19', 'm_Pop_Age_15_19', 'e_Pop_Age_20_24',\n",
       "       'm_Pop_Age_20_24', 'e_Pop_Age_25_34', 'm_Pop_Age_25_34',\n",
       "       'e_Pop_Age_35_44', 'm_Pop_Age_35_44', 'e_Pop_Age_45_54',\n",
       "       'm_Pop_Age_45_54', 'e_Pop_Age_55_59', 'm_Pop_Age_55_59',\n",
       "       'e_Pop_Age_60_64', 'm_Pop_Age_60_64', 'e_Pop_Age_65_74',\n",
       "       'm_Pop_Age_65_74', 'e_Pop_Age_75_84', 'm_Pop_Age_75_84',\n",
       "       'e_Pop_Age_85_plus', 'm_Pop_Age_85_plus', 'e_Pop_Age_Median_age',\n",
       "       'm_Pop_Age_Median_age', 'e_Pop_Age_under_18', 'm_Pop_Age_under_18',\n",
       "       'e_Pop_Age_18_plus', 'm_Pop_Age_18_plus', 'e_Pop_Age_21_plus',\n",
       "       'm_Pop_Age_21_plus', 'e_Pop_Age_62_plus', 'm_Pop_Age_62_plus',\n",
       "       'e_Pop_Age_65_plus', 'm_Pop_Age_65_plus', 'Start_Year', 'End_Year',\n",
       "       'PlaceID', 'IsMostRecent'],\n",
       "      dtype='object')"
      ]
     },
     "execution_count": 12,
     "metadata": {},
     "output_type": "execute_result"
    }
   ],
   "source": [
    "age_df = pd.read_csv(os.path.join(arcgis_path, 'ACS_Population_Characteristics__Age.csv'))\n",
    "to_merge = pd.DataFrame()\n",
    "age_df.columns"
   ]
  },
  {
   "cell_type": "code",
   "execution_count": 13,
   "id": "751e22c7",
   "metadata": {},
   "outputs": [
    {
     "data": {
      "text/plain": [
       "0       514606\n",
       "1         2863\n",
       "2         4663\n",
       "3       212674\n",
       "4        10786\n",
       "         ...  \n",
       "4989       126\n",
       "4990        22\n",
       "4991       785\n",
       "4992      1673\n",
       "4993       440\n",
       "Name: e_Pop_Age_18_plus, Length: 4994, dtype: int64"
      ]
     },
     "execution_count": 13,
     "metadata": {},
     "output_type": "execute_result"
    }
   ],
   "source": [
    "age_df['e_Pop_Age_18_plus']"
   ]
  },
  {
   "cell_type": "code",
   "execution_count": 14,
   "id": "7ea4f4cb",
   "metadata": {},
   "outputs": [],
   "source": [
    "to_merge['Place'] = age_df['Place']\n",
    "to_merge['Year'] = age_df['End_Year']\n",
    "to_merge['median_age'] = age_df['e_Pop_Age_Median_age']\n",
    "to_merge['n_pop_under_14'] = age_df['e_Pop_Age_under_5'] + age_df['e_Pop_Age_5_9'] + age_df['e_Pop_Age_10_14']\n",
    "# For some reason pop_under_18 has only NaN until 2017, but 18_plus and total don't.\n",
    "# So I compute the population under 18 like this\n",
    "to_merge['n_pop_under_18'] = age_df['e_Pop_Age_Total'] - age_df['e_Pop_Age_18_plus']\n",
    "to_merge['n_pop_18-65'] = age_df['e_Pop_Age_18_plus'] - age_df['e_Pop_Age_65_plus']\n",
    "to_merge['n_pop_65-85'] = age_df['e_Pop_Age_65_plus'] - age_df['e_Pop_Age_85_plus']\n",
    "to_merge['n_pop_over_85'] = age_df['e_Pop_Age_85_plus']"
   ]
  },
  {
   "cell_type": "code",
   "execution_count": 15,
   "id": "bf128a7c",
   "metadata": {},
   "outputs": [],
   "source": [
    "master_arcgis = to_merge.copy()"
   ]
  },
  {
   "cell_type": "code",
   "execution_count": 16,
   "id": "3075cb10",
   "metadata": {},
   "outputs": [
    {
     "data": {
      "text/plain": [
       "Index(['OBJECTID', 'Place', 'Geo_Src', 'e_Families_Total', 'm_Families_Total',\n",
       "       'e_Family_Income_under_10000', 'm_Family_Income_under_10000',\n",
       "       'e_Family_Income_10000_14999', 'm_Family_Income_10000_14999',\n",
       "       'e_Family_Income_15000_24999', 'm_Family_Income_15000_24999',\n",
       "       'e_Family_Income_25000_34999', 'e_Family_Income_35000_49999',\n",
       "       'm_Family_Income_35000_49999', 'e_Family_Income_50000_74999',\n",
       "       'm_Family_Income_50000_74999', 'e_Family_Income_75000_99999',\n",
       "       'm_Family_Income_75000_99999', 'e_Family_Income_100000_149999',\n",
       "       'm_Family_Income_100000_149999', 'e_Family_Income_150000_199999',\n",
       "       'm_Family_Income_150000_199999', 'e_Family_Income_200000_Plus',\n",
       "       'm_Family_Income_200000_Plus', 'e_Family_Median_Income',\n",
       "       'm_Family_Median_Income', 'e_Family_Mean_Income',\n",
       "       'm_Family_Mean_Income', 'Start_Year', 'End_Year', 'PlaceID', 'IsActive',\n",
       "       'ShapeSTArea', 'ShapeSTLength'],\n",
       "      dtype='object')"
      ]
     },
     "execution_count": 16,
     "metadata": {},
     "output_type": "execute_result"
    }
   ],
   "source": [
    "# I might drop this in favor of the IRS data, but I feel like creating a complete arcgis file\n",
    "fam_inc_df = pd.read_csv(os.path.join(arcgis_path, 'ACS_Population_Characteristics__Family_Income_and_Benefits_-_Borough.csv'))\n",
    "to_merge = pd.DataFrame()\n",
    "fam_inc_df.columns"
   ]
  },
  {
   "cell_type": "code",
   "execution_count": 17,
   "id": "741aafc5",
   "metadata": {},
   "outputs": [],
   "source": [
    "to_merge['Place'] = fam_inc_df['Place']\n",
    "to_merge['Year'] = fam_inc_df['End_Year']\n",
    "to_merge['n_families'] = fam_inc_df['e_Families_Total']\n",
    "to_merge['median_family_income'] = fam_inc_df['m_Family_Median_Income']"
   ]
  },
  {
   "cell_type": "code",
   "execution_count": 18,
   "id": "98cedc08",
   "metadata": {},
   "outputs": [],
   "source": [
    "master_arcgis = master_arcgis.merge(to_merge, left_on=['Place', 'Year'], right_on=['Place', 'Year'], how='left')"
   ]
  },
  {
   "cell_type": "code",
   "execution_count": 19,
   "id": "a815fde3",
   "metadata": {},
   "outputs": [
    {
     "data": {
      "text/plain": [
       "Index(['X', 'Y', 'OBJECTID', 'Place', 'Geo_Src', 'e_Households_Total',\n",
       "       'm_Households_Total', 'e_Household_Inc_under_10000',\n",
       "       'm_Household_Inc_under_10000', 'e_Household_Inc_10000_14999',\n",
       "       'm_Household_Inc_10000_14999', 'e_Household_Inc_25000_34999',\n",
       "       'm_Household_Inc_25000_34999', 'e_Household_Inc_35000_49999',\n",
       "       'm_Household_Inc_35000_49999', 'e_Household_Inc_50000_74999',\n",
       "       'm_Household_Inc_50000_74999', 'e_Household_Inc_75000_99999',\n",
       "       'm_Household_Inc_75000_99999', 'e_Household_Inc_100000_149999',\n",
       "       'm_Household_Inc_100000_149999', 'e_Household_Inc_15000_24999',\n",
       "       'm_Household_Inc_15000_24999', 'e_Household_Inc_150000_199999',\n",
       "       'm_Household_Inc_150000_199999', 'e_Household_Inc_200000_Plus',\n",
       "       'm_Household_Inc_200000_Plus', 'e_Household_Median_Income',\n",
       "       'm_Household_Median_Income', 'e_Household_Mean_Income',\n",
       "       'm_Household_Mean_Income', 'e_Household_With_Earnings',\n",
       "       'm_Household_With_Earnings', 'e_Household_Mean_Earnings',\n",
       "       'm_Household_Mean_Earnings', 'e_Household_With_SS',\n",
       "       'm_Household_With_SS', 'e_Household_Mean_SS_Income',\n",
       "       'm_Household_Mean_SS_Income', 'e_Household_Mean_Retire_Inc',\n",
       "       'm_Household_Mean_Retire_Inc', 'e_Household_Mean_Sup_SS_Inc',\n",
       "       'm_Household_Mean_Sup_SS_Inc', 'e_Household_Mean_Assist_Inc',\n",
       "       'm_Household_Mean_Assist_Inc', 'Start_Year', 'End_Year', 'IsMostRecent',\n",
       "       'PlaceID'],\n",
       "      dtype='object')"
      ]
     },
     "execution_count": 19,
     "metadata": {},
     "output_type": "execute_result"
    }
   ],
   "source": [
    "hous_inc_df = pd.read_csv(os.path.join(arcgis_path, 'ACS_Population_Characteristics__Household_Income_and_Benefits.csv'))\n",
    "to_merge = pd.DataFrame()\n",
    "hous_inc_df.columns"
   ]
  },
  {
   "cell_type": "code",
   "execution_count": 20,
   "id": "fe6fc7b0",
   "metadata": {},
   "outputs": [],
   "source": [
    "to_merge['Place'] = hous_inc_df['Place']\n",
    "to_merge['Year'] = hous_inc_df['End_Year']\n",
    "to_merge['n_households'] = hous_inc_df['e_Households_Total']"
   ]
  },
  {
   "cell_type": "code",
   "execution_count": 21,
   "id": "f1145a7e",
   "metadata": {},
   "outputs": [],
   "source": [
    "master_arcgis = master_arcgis.merge(to_merge, left_on=['Place', 'Year'], right_on=['Place', 'Year'], how='left')"
   ]
  },
  {
   "cell_type": "code",
   "execution_count": 22,
   "id": "cfeafe7c",
   "metadata": {},
   "outputs": [
    {
     "data": {
      "text/plain": [
       "Index(['X', 'Y', 'OBJECTID', 'Place', 'Geo_Src', 'e_Total_Units',\n",
       "       'm_Total_Units', 'e_Total_Occupied_Units', 'm_Total_Occupied_Units',\n",
       "       'e_Vacant_Units', 'm_Vacant_Units', 'e_Owner_Vacancy_Rate',\n",
       "       'm_Owner_Vacancy_Rate', 'e_Rental_Vacancy_Rate',\n",
       "       'm_Rental_Vacancy_Rate', 'Start_Year', 'End_Year', 'PlaceID'],\n",
       "      dtype='object')"
      ]
     },
     "execution_count": 22,
     "metadata": {},
     "output_type": "execute_result"
    }
   ],
   "source": [
    "hous_df = pd.read_csv(os.path.join(arcgis_path, 'ACS_Population_Characteristics__Housing.csv'))\n",
    "to_merge = pd.DataFrame()\n",
    "hous_df.columns"
   ]
  },
  {
   "cell_type": "code",
   "execution_count": 23,
   "id": "616adbeb",
   "metadata": {},
   "outputs": [],
   "source": [
    "to_merge['Place'] = hous_df['Place']\n",
    "to_merge['Year'] = hous_df['End_Year']\n",
    "to_merge['n_houses'] = hous_df['e_Total_Units']\n",
    "to_merge['n_occupied_houses'] = hous_df['e_Total_Occupied_Units']\n",
    "to_merge['house_vacancy_rate'] = (hous_df['e_Vacant_Units']) / (hous_df['e_Total_Units']) * 100"
   ]
  },
  {
   "cell_type": "code",
   "execution_count": 24,
   "id": "62e74387",
   "metadata": {},
   "outputs": [],
   "source": [
    "master_arcgis = master_arcgis.merge(to_merge, left_on=['Place', 'Year'], right_on=['Place', 'Year'], how='left')"
   ]
  },
  {
   "cell_type": "code",
   "execution_count": 25,
   "id": "e896f2cb",
   "metadata": {},
   "outputs": [
    {
     "data": {
      "text/plain": [
       "Index(['X', 'Y', 'OBJECTID', 'Place', 'Geo_Src', 'e_Per_Capita_Income',\n",
       "       'm_Per_Capita_Income', 'e_median_Household_Income',\n",
       "       'm_median_Household_Income', 'e_median_Family_Income',\n",
       "       'm_median_Family_Income', 'e_Pop_of_Poverty_Det',\n",
       "       'm_Pop_of_Poverty_Det', 'e_Pop_Below_125pct_Poverty',\n",
       "       'm_Pop_Below_125pct_Poverty', 'e_Pop_Below_Poverty',\n",
       "       'm_Pop_Below_Poverty', 'e_Pop_18_64_of_Poverty_Det',\n",
       "       'm_Pop_18_64_of_Poverty_Det', 'e_Pop_18_64_Below_Poverty',\n",
       "       'm_Pop_18_64_Below_Poverty', 'e_Pop_65_plus_of_Poverty_Det',\n",
       "       'm_Pop_65_plus_of_Poverty_Det', 'e_Pop_65_plus_Below_Poverty',\n",
       "       'm_Pop_65_plus_Below_Poverty', 'e_Pop_under_18_of_Poverty_Det',\n",
       "       'm_Pop_under_18_of_Poverty_Det', 'e_Pop_under_18_Below_Poverty',\n",
       "       'm_Pop_under_18_Below_Poverty', 'e_Households_Below_Poverty',\n",
       "       'm_Households_Below_Poverty', 'Start_Year', 'End_Year', 'PlaceID'],\n",
       "      dtype='object')"
      ]
     },
     "execution_count": 25,
     "metadata": {},
     "output_type": "execute_result"
    }
   ],
   "source": [
    "inc_and_pov_df = pd.read_csv(os.path.join(arcgis_path, 'ACS_Population_Characteristics__Income_and_Poverty.csv'))\n",
    "to_merge = pd.DataFrame()\n",
    "inc_and_pov_df.columns"
   ]
  },
  {
   "cell_type": "code",
   "execution_count": 26,
   "id": "83f5a310",
   "metadata": {},
   "outputs": [],
   "source": [
    "to_merge['Place'] = inc_and_pov_df['Place']\n",
    "to_merge['Year'] = inc_and_pov_df['End_Year']\n",
    "to_merge['n_people_below_poverty'] = inc_and_pov_df['e_Pop_Below_Poverty']\n",
    "to_merge['n_households_below_poverty'] = inc_and_pov_df['e_Households_Below_Poverty']\n",
    "to_merge['n_people_under_18_below_poverty'] = inc_and_pov_df['e_Pop_under_18_Below_Poverty']\n",
    "to_merge['n_people_18-64_below_poverty'] = inc_and_pov_df['e_Pop_18_64_Below_Poverty']\n",
    "to_merge['n_people_65_plus_below_poverty'] = inc_and_pov_df['e_Pop_65_plus_Below_Poverty']"
   ]
  },
  {
   "cell_type": "code",
   "execution_count": 27,
   "id": "0be6ac6d",
   "metadata": {},
   "outputs": [],
   "source": [
    "master_arcgis = master_arcgis.merge(to_merge, left_on=['Place', 'Year'], right_on=['Place', 'Year'], how='left')"
   ]
  },
  {
   "cell_type": "code",
   "execution_count": 28,
   "id": "bd25a49a",
   "metadata": {},
   "outputs": [
    {
     "data": {
      "text/html": [
       "<div>\n",
       "<style scoped>\n",
       "    .dataframe tbody tr th:only-of-type {\n",
       "        vertical-align: middle;\n",
       "    }\n",
       "\n",
       "    .dataframe tbody tr th {\n",
       "        vertical-align: top;\n",
       "    }\n",
       "\n",
       "    .dataframe thead th {\n",
       "        text-align: right;\n",
       "    }\n",
       "</style>\n",
       "<table border=\"1\" class=\"dataframe\">\n",
       "  <thead>\n",
       "    <tr style=\"text-align: right;\">\n",
       "      <th></th>\n",
       "      <th>Place</th>\n",
       "      <th>Year</th>\n",
       "      <th>median_age</th>\n",
       "      <th>n_pop_under_14</th>\n",
       "      <th>n_pop_under_18</th>\n",
       "      <th>n_pop_18-65</th>\n",
       "      <th>n_pop_65-85</th>\n",
       "      <th>n_pop_over_85</th>\n",
       "      <th>n_families</th>\n",
       "      <th>median_family_income</th>\n",
       "      <th>n_households</th>\n",
       "      <th>n_houses</th>\n",
       "      <th>n_occupied_houses</th>\n",
       "      <th>house_vacancy_rate</th>\n",
       "      <th>n_people_below_poverty</th>\n",
       "      <th>n_households_below_poverty</th>\n",
       "      <th>n_people_under_18_below_poverty</th>\n",
       "      <th>n_people_18-64_below_poverty</th>\n",
       "      <th>n_people_65_plus_below_poverty</th>\n",
       "    </tr>\n",
       "  </thead>\n",
       "  <tbody>\n",
       "    <tr>\n",
       "      <th>0</th>\n",
       "      <td>Alaska</td>\n",
       "      <td>2011</td>\n",
       "      <td>33.8</td>\n",
       "      <td>153256</td>\n",
       "      <td>186097</td>\n",
       "      <td>461925</td>\n",
       "      <td>48440</td>\n",
       "      <td>4241</td>\n",
       "      <td>NaN</td>\n",
       "      <td>NaN</td>\n",
       "      <td>252920</td>\n",
       "      <td>304373</td>\n",
       "      <td>252920</td>\n",
       "      <td>16.904587</td>\n",
       "      <td>NaN</td>\n",
       "      <td>11032.0</td>\n",
       "      <td>NaN</td>\n",
       "      <td>NaN</td>\n",
       "      <td>NaN</td>\n",
       "    </tr>\n",
       "    <tr>\n",
       "      <th>1</th>\n",
       "      <td>Aleutians East Borough</td>\n",
       "      <td>2011</td>\n",
       "      <td>39.3</td>\n",
       "      <td>176</td>\n",
       "      <td>221</td>\n",
       "      <td>2750</td>\n",
       "      <td>110</td>\n",
       "      <td>3</td>\n",
       "      <td>204.0</td>\n",
       "      <td>9122.0</td>\n",
       "      <td>336</td>\n",
       "      <td>535</td>\n",
       "      <td>336</td>\n",
       "      <td>37.196262</td>\n",
       "      <td>NaN</td>\n",
       "      <td>21.0</td>\n",
       "      <td>NaN</td>\n",
       "      <td>NaN</td>\n",
       "      <td>NaN</td>\n",
       "    </tr>\n",
       "    <tr>\n",
       "      <th>2</th>\n",
       "      <td>Aleutians West Census Area</td>\n",
       "      <td>2011</td>\n",
       "      <td>41.5</td>\n",
       "      <td>666</td>\n",
       "      <td>825</td>\n",
       "      <td>4380</td>\n",
       "      <td>279</td>\n",
       "      <td>4</td>\n",
       "      <td>733.0</td>\n",
       "      <td>11704.0</td>\n",
       "      <td>1255</td>\n",
       "      <td>2268</td>\n",
       "      <td>1255</td>\n",
       "      <td>44.664903</td>\n",
       "      <td>NaN</td>\n",
       "      <td>34.0</td>\n",
       "      <td>NaN</td>\n",
       "      <td>NaN</td>\n",
       "      <td>NaN</td>\n",
       "    </tr>\n",
       "    <tr>\n",
       "      <th>3</th>\n",
       "      <td>Anchorage</td>\n",
       "      <td>2011</td>\n",
       "      <td>33.0</td>\n",
       "      <td>61765</td>\n",
       "      <td>74716</td>\n",
       "      <td>191928</td>\n",
       "      <td>19034</td>\n",
       "      <td>1712</td>\n",
       "      <td>NaN</td>\n",
       "      <td>NaN</td>\n",
       "      <td>105123</td>\n",
       "      <td>112804</td>\n",
       "      <td>105123</td>\n",
       "      <td>6.809156</td>\n",
       "      <td>NaN</td>\n",
       "      <td>3804.0</td>\n",
       "      <td>NaN</td>\n",
       "      <td>NaN</td>\n",
       "      <td>NaN</td>\n",
       "    </tr>\n",
       "    <tr>\n",
       "      <th>4</th>\n",
       "      <td>Anchorage</td>\n",
       "      <td>2011</td>\n",
       "      <td>33.0</td>\n",
       "      <td>61765</td>\n",
       "      <td>74716</td>\n",
       "      <td>191928</td>\n",
       "      <td>19034</td>\n",
       "      <td>1712</td>\n",
       "      <td>NaN</td>\n",
       "      <td>NaN</td>\n",
       "      <td>105123</td>\n",
       "      <td>112804</td>\n",
       "      <td>105123</td>\n",
       "      <td>6.809156</td>\n",
       "      <td>NaN</td>\n",
       "      <td>3804.0</td>\n",
       "      <td>NaN</td>\n",
       "      <td>NaN</td>\n",
       "      <td>NaN</td>\n",
       "    </tr>\n",
       "    <tr>\n",
       "      <th>...</th>\n",
       "      <td>...</td>\n",
       "      <td>...</td>\n",
       "      <td>...</td>\n",
       "      <td>...</td>\n",
       "      <td>...</td>\n",
       "      <td>...</td>\n",
       "      <td>...</td>\n",
       "      <td>...</td>\n",
       "      <td>...</td>\n",
       "      <td>...</td>\n",
       "      <td>...</td>\n",
       "      <td>...</td>\n",
       "      <td>...</td>\n",
       "      <td>...</td>\n",
       "      <td>...</td>\n",
       "      <td>...</td>\n",
       "      <td>...</td>\n",
       "      <td>...</td>\n",
       "      <td>...</td>\n",
       "    </tr>\n",
       "    <tr>\n",
       "      <th>6033</th>\n",
       "      <td>Wrangell</td>\n",
       "      <td>2023</td>\n",
       "      <td>44.3</td>\n",
       "      <td>367</td>\n",
       "      <td>433</td>\n",
       "      <td>1170</td>\n",
       "      <td>481</td>\n",
       "      <td>22</td>\n",
       "      <td>NaN</td>\n",
       "      <td>NaN</td>\n",
       "      <td>912</td>\n",
       "      <td>1300</td>\n",
       "      <td>912</td>\n",
       "      <td>29.846154</td>\n",
       "      <td>NaN</td>\n",
       "      <td>NaN</td>\n",
       "      <td>NaN</td>\n",
       "      <td>NaN</td>\n",
       "      <td>NaN</td>\n",
       "    </tr>\n",
       "    <tr>\n",
       "      <th>6034</th>\n",
       "      <td>Yakutat</td>\n",
       "      <td>2023</td>\n",
       "      <td>53.2</td>\n",
       "      <td>52</td>\n",
       "      <td>66</td>\n",
       "      <td>300</td>\n",
       "      <td>130</td>\n",
       "      <td>10</td>\n",
       "      <td>NaN</td>\n",
       "      <td>NaN</td>\n",
       "      <td>207</td>\n",
       "      <td>391</td>\n",
       "      <td>207</td>\n",
       "      <td>47.058824</td>\n",
       "      <td>NaN</td>\n",
       "      <td>NaN</td>\n",
       "      <td>NaN</td>\n",
       "      <td>NaN</td>\n",
       "      <td>NaN</td>\n",
       "    </tr>\n",
       "    <tr>\n",
       "      <th>6035</th>\n",
       "      <td>Yakutat</td>\n",
       "      <td>2023</td>\n",
       "      <td>53.2</td>\n",
       "      <td>52</td>\n",
       "      <td>66</td>\n",
       "      <td>300</td>\n",
       "      <td>130</td>\n",
       "      <td>10</td>\n",
       "      <td>NaN</td>\n",
       "      <td>NaN</td>\n",
       "      <td>207</td>\n",
       "      <td>322</td>\n",
       "      <td>207</td>\n",
       "      <td>35.714286</td>\n",
       "      <td>NaN</td>\n",
       "      <td>NaN</td>\n",
       "      <td>NaN</td>\n",
       "      <td>NaN</td>\n",
       "      <td>NaN</td>\n",
       "    </tr>\n",
       "    <tr>\n",
       "      <th>6036</th>\n",
       "      <td>Yakutat</td>\n",
       "      <td>2023</td>\n",
       "      <td>53.2</td>\n",
       "      <td>52</td>\n",
       "      <td>66</td>\n",
       "      <td>300</td>\n",
       "      <td>130</td>\n",
       "      <td>10</td>\n",
       "      <td>NaN</td>\n",
       "      <td>NaN</td>\n",
       "      <td>207</td>\n",
       "      <td>391</td>\n",
       "      <td>207</td>\n",
       "      <td>47.058824</td>\n",
       "      <td>NaN</td>\n",
       "      <td>NaN</td>\n",
       "      <td>NaN</td>\n",
       "      <td>NaN</td>\n",
       "      <td>NaN</td>\n",
       "    </tr>\n",
       "    <tr>\n",
       "      <th>6037</th>\n",
       "      <td>Yakutat</td>\n",
       "      <td>2023</td>\n",
       "      <td>53.2</td>\n",
       "      <td>52</td>\n",
       "      <td>66</td>\n",
       "      <td>300</td>\n",
       "      <td>130</td>\n",
       "      <td>10</td>\n",
       "      <td>NaN</td>\n",
       "      <td>NaN</td>\n",
       "      <td>207</td>\n",
       "      <td>322</td>\n",
       "      <td>207</td>\n",
       "      <td>35.714286</td>\n",
       "      <td>NaN</td>\n",
       "      <td>NaN</td>\n",
       "      <td>NaN</td>\n",
       "      <td>NaN</td>\n",
       "      <td>NaN</td>\n",
       "    </tr>\n",
       "  </tbody>\n",
       "</table>\n",
       "<p>6038 rows × 19 columns</p>\n",
       "</div>"
      ],
      "text/plain": [
       "                           Place  Year  median_age  n_pop_under_14  \\\n",
       "0                         Alaska  2011        33.8          153256   \n",
       "1         Aleutians East Borough  2011        39.3             176   \n",
       "2     Aleutians West Census Area  2011        41.5             666   \n",
       "3                      Anchorage  2011        33.0           61765   \n",
       "4                      Anchorage  2011        33.0           61765   \n",
       "...                          ...   ...         ...             ...   \n",
       "6033                    Wrangell  2023        44.3             367   \n",
       "6034                     Yakutat  2023        53.2              52   \n",
       "6035                     Yakutat  2023        53.2              52   \n",
       "6036                     Yakutat  2023        53.2              52   \n",
       "6037                     Yakutat  2023        53.2              52   \n",
       "\n",
       "      n_pop_under_18  n_pop_18-65  n_pop_65-85  n_pop_over_85  n_families  \\\n",
       "0             186097       461925        48440           4241         NaN   \n",
       "1                221         2750          110              3       204.0   \n",
       "2                825         4380          279              4       733.0   \n",
       "3              74716       191928        19034           1712         NaN   \n",
       "4              74716       191928        19034           1712         NaN   \n",
       "...              ...          ...          ...            ...         ...   \n",
       "6033             433         1170          481             22         NaN   \n",
       "6034              66          300          130             10         NaN   \n",
       "6035              66          300          130             10         NaN   \n",
       "6036              66          300          130             10         NaN   \n",
       "6037              66          300          130             10         NaN   \n",
       "\n",
       "      median_family_income  n_households  n_houses  n_occupied_houses  \\\n",
       "0                      NaN        252920    304373             252920   \n",
       "1                   9122.0           336       535                336   \n",
       "2                  11704.0          1255      2268               1255   \n",
       "3                      NaN        105123    112804             105123   \n",
       "4                      NaN        105123    112804             105123   \n",
       "...                    ...           ...       ...                ...   \n",
       "6033                   NaN           912      1300                912   \n",
       "6034                   NaN           207       391                207   \n",
       "6035                   NaN           207       322                207   \n",
       "6036                   NaN           207       391                207   \n",
       "6037                   NaN           207       322                207   \n",
       "\n",
       "      house_vacancy_rate  n_people_below_poverty  n_households_below_poverty  \\\n",
       "0              16.904587                     NaN                     11032.0   \n",
       "1              37.196262                     NaN                        21.0   \n",
       "2              44.664903                     NaN                        34.0   \n",
       "3               6.809156                     NaN                      3804.0   \n",
       "4               6.809156                     NaN                      3804.0   \n",
       "...                  ...                     ...                         ...   \n",
       "6033           29.846154                     NaN                         NaN   \n",
       "6034           47.058824                     NaN                         NaN   \n",
       "6035           35.714286                     NaN                         NaN   \n",
       "6036           47.058824                     NaN                         NaN   \n",
       "6037           35.714286                     NaN                         NaN   \n",
       "\n",
       "      n_people_under_18_below_poverty  n_people_18-64_below_poverty  \\\n",
       "0                                 NaN                           NaN   \n",
       "1                                 NaN                           NaN   \n",
       "2                                 NaN                           NaN   \n",
       "3                                 NaN                           NaN   \n",
       "4                                 NaN                           NaN   \n",
       "...                               ...                           ...   \n",
       "6033                              NaN                           NaN   \n",
       "6034                              NaN                           NaN   \n",
       "6035                              NaN                           NaN   \n",
       "6036                              NaN                           NaN   \n",
       "6037                              NaN                           NaN   \n",
       "\n",
       "      n_people_65_plus_below_poverty  \n",
       "0                                NaN  \n",
       "1                                NaN  \n",
       "2                                NaN  \n",
       "3                                NaN  \n",
       "4                                NaN  \n",
       "...                              ...  \n",
       "6033                             NaN  \n",
       "6034                             NaN  \n",
       "6035                             NaN  \n",
       "6036                             NaN  \n",
       "6037                             NaN  \n",
       "\n",
       "[6038 rows x 19 columns]"
      ]
     },
     "execution_count": 28,
     "metadata": {},
     "output_type": "execute_result"
    }
   ],
   "source": [
    "master_arcgis"
   ]
  },
  {
   "cell_type": "code",
   "execution_count": 29,
   "id": "e0c12cba",
   "metadata": {},
   "outputs": [
    {
     "data": {
      "text/plain": [
       "Index(['X', 'Y', 'OBJECTID', 'Place', 'Geo_Src', 'e_Total_Pop', 'm_Total_Pop',\n",
       "       'e_One_Race', 'm_One_Race', 'e_AmInd_AKNat', 'm_AmInd_AKNat', 'e_Asian',\n",
       "       'm_Asian', 'e_Black_AfricanAm', 'm_Black_AfricanAm',\n",
       "       'e_NatHI_PacIslander', 'm_NatHI_PacIslander', 'e_Other_Race',\n",
       "       'm_Other_Race', 'e_White', 'm_White', 'e_Two_or_More', 'm_Two_or_More',\n",
       "       'e_Black_AfrAm_and_AmInd_AKNat', 'm_Black_AfrAm_and_AmInd_AKNat',\n",
       "       'e_White_and_AmInd_AKNat', 'm_White_and_AmInd_AKNat',\n",
       "       'e_White_and_Asian', 'm_White_and_Asian', 'e_White_and_Black_AfricanAm',\n",
       "       'm_White_and_Black_AfricanAm', 'Start_Year', 'End_Year', 'IsMostRecent',\n",
       "       'PlaceID'],\n",
       "      dtype='object')"
      ]
     },
     "execution_count": 29,
     "metadata": {},
     "output_type": "execute_result"
    }
   ],
   "source": [
    "race_df = pd.read_csv(os.path.join(arcgis_path, 'ACS_Population_Characteristics__Race.csv'))\n",
    "to_merge = pd.DataFrame()\n",
    "race_df.columns"
   ]
  },
  {
   "cell_type": "code",
   "execution_count": 30,
   "id": "3a9a158c",
   "metadata": {},
   "outputs": [],
   "source": [
    "to_merge['Place'] = race_df['Place']\n",
    "to_merge['Year'] = race_df['End_Year']\n",
    "to_merge['n_population_native'] = race_df['e_AmInd_AKNat']\n",
    "to_merge['n_population_non_native'] = race_df['e_Total_Pop'] - race_df['e_AmInd_AKNat']\n",
    "to_merge['n_population_white'] = race_df['e_White']\n",
    "to_merge['n_population_black'] = race_df['e_Black_AfricanAm']\n",
    "to_merge['n_population_asian'] = race_df['e_Asian']"
   ]
  },
  {
   "cell_type": "code",
   "execution_count": 31,
   "id": "879fe2f7",
   "metadata": {},
   "outputs": [],
   "source": [
    "master_arcgis = master_arcgis.merge(to_merge, left_on=['Place', 'Year'], right_on=['Place', 'Year'], how='left')"
   ]
  },
  {
   "cell_type": "code",
   "execution_count": 32,
   "id": "27c0ac6e",
   "metadata": {},
   "outputs": [
    {
     "data": {
      "text/plain": [
       "Index(['X', 'Y', 'OBJECTID', 'Place', 'Geo_Src', 'e_Pop_Total', 'm_Pop_Total',\n",
       "       'e_Pop_Male', 'm_Pop_Male', 'e_Pop_Female', 'm_Pop_Female',\n",
       "       'Start_Year', 'End_Year', 'PlaceID', 'IsMostRecent'],\n",
       "      dtype='object')"
      ]
     },
     "execution_count": 32,
     "metadata": {},
     "output_type": "execute_result"
    }
   ],
   "source": [
    "sex_df = pd.read_csv(os.path.join(arcgis_path, 'ACS_Population_Characteristics__Sex.csv'))\n",
    "to_merge = pd.DataFrame()\n",
    "sex_df.columns"
   ]
  },
  {
   "cell_type": "code",
   "execution_count": 33,
   "id": "d79040a4",
   "metadata": {},
   "outputs": [],
   "source": [
    "to_merge['Place'] = sex_df['Place']\n",
    "to_merge['Year'] = sex_df['End_Year']\n",
    "to_merge['n_population_male'] = sex_df['e_Pop_Male']\n",
    "to_merge['n_population_female'] = sex_df['e_Pop_Female']\n",
    "to_merge['n_total_population(ACS)'] = race_df['e_Total_Pop']"
   ]
  },
  {
   "cell_type": "code",
   "execution_count": 34,
   "id": "8fc2b760",
   "metadata": {},
   "outputs": [],
   "source": [
    "master_arcgis = master_arcgis.merge(to_merge, left_on=['Place', 'Year'], right_on=['Place', 'Year'], how='left')"
   ]
  },
  {
   "cell_type": "markdown",
   "id": "940ed063",
   "metadata": {},
   "source": [
    "## Percentage conversion\n",
    "I think it would be clearer to express most measures as percentages instead of whole numbers.\n",
    "\n",
    "Even tho I will regress with total population as control, this streamlines the process and allows for less misinterpretations, and comparisons at a glance."
   ]
  },
  {
   "cell_type": "code",
   "execution_count": 35,
   "id": "fd16fb9f",
   "metadata": {},
   "outputs": [],
   "source": [
    "# Population-based percentages\n",
    "master_arcgis['p_pop_under_14'] = master_arcgis['n_pop_under_14'] / master_arcgis['n_total_population(ACS)'] * 100\n",
    "master_arcgis['p_pop_under_18'] = master_arcgis['n_pop_under_18'] / master_arcgis['n_total_population(ACS)'] * 100\n",
    "master_arcgis['p_pop_18_65'] = master_arcgis['n_pop_18-65'] / master_arcgis['n_total_population(ACS)'] * 100\n",
    "master_arcgis['p_pop_65_85'] = master_arcgis['n_pop_65-85'] / master_arcgis['n_total_population(ACS)'] * 100\n",
    "master_arcgis['p_pop_over_85'] = master_arcgis['n_pop_over_85'] / master_arcgis['n_total_population(ACS)'] * 100\n",
    "\n",
    "# Households and houses\n",
    "master_arcgis['p_families'] = master_arcgis['n_families'] / master_arcgis['n_households'] * 100\n",
    "master_arcgis['p_households'] = master_arcgis['n_households'] / master_arcgis['n_houses'] * 100\n",
    "master_arcgis['p_occupied_houses'] = master_arcgis['n_occupied_houses'] / master_arcgis['n_houses'] * 100\n",
    "\n",
    "# Poverty measures\n",
    "master_arcgis['p_people_below_poverty'] = master_arcgis['n_people_below_poverty'] / master_arcgis['n_total_population(ACS)'] * 100\n",
    "master_arcgis['p_households_below_poverty'] = master_arcgis['n_households_below_poverty'] / master_arcgis['n_households'] * 100\n",
    "master_arcgis['p_people_under_18_below_poverty'] = master_arcgis['n_people_under_18_below_poverty'] / master_arcgis['n_total_population(ACS)'] * 100\n",
    "master_arcgis['p_people_18_64_below_poverty'] = master_arcgis['n_people_18-64_below_poverty'] / master_arcgis['n_total_population(ACS)'] * 100\n",
    "master_arcgis['p_people_65_plus_below_poverty'] = master_arcgis['n_people_65_plus_below_poverty'] / master_arcgis['n_total_population(ACS)'] * 100\n",
    "\n",
    "# Ethnicity and Race\n",
    "master_arcgis['p_population_native'] = master_arcgis['n_population_native'] / master_arcgis['n_total_population(ACS)'] * 100\n",
    "master_arcgis['p_population_non_native'] = master_arcgis['n_population_non_native'] / master_arcgis['n_total_population(ACS)'] * 100\n",
    "master_arcgis['p_population_white'] = master_arcgis['n_population_white'] / master_arcgis['n_total_population(ACS)'] * 100\n",
    "master_arcgis['p_population_black'] = master_arcgis['n_population_black'] / master_arcgis['n_total_population(ACS)'] * 100\n",
    "master_arcgis['p_population_asian'] = master_arcgis['n_population_asian'] / master_arcgis['n_total_population(ACS)'] * 100\n",
    "\n",
    "# Sex Ratio\n",
    "master_arcgis['ratio_male_over_female'] = master_arcgis['n_population_male'] / master_arcgis['n_population_female']\n",
    "\n",
    "# house_vacancy_rate remains unchanged as it is already in percentage,\n",
    "# but I duplicate it to have all percentage at the end\n",
    "to_merge['house_vacancy_rate'] = (hous_df['e_Vacant_Units']) / (hous_df['e_Total_Units']) * 100"
   ]
  },
  {
   "cell_type": "markdown",
   "id": "f64ca38b-9f7c-41bc-af43-1a34750be31e",
   "metadata": {},
   "source": [
    "## Sustinence use communities"
   ]
  },
  {
   "cell_type": "code",
   "execution_count": 52,
   "id": "9a3e3cfe-8ffd-44f4-ad25-81b61b845d96",
   "metadata": {},
   "outputs": [],
   "source": [
    "substinence_use_df = pd.read_csv(os.path.join(arcgis_path, 'Subsistence_Use_Communities.csv'))"
   ]
  },
  {
   "cell_type": "code",
   "execution_count": 41,
   "id": "450813b9-92ff-4d67-ba8c-654b04eee1bd",
   "metadata": {},
   "outputs": [
    {
     "data": {
      "text/plain": [
       "Index(['OBJECTID', 'CommunityID', 'CommunityName', 'SubsistenceAreaIndicator',\n",
       "       'PeriodStartDate', 'PeriodEndDate', 'Year', 'AsOfDate', 'IsMostRecent',\n",
       "       'created_user', 'created_date', 'last_edited_user', 'last_edited_date',\n",
       "       'x', 'y', 'GlobalID'],\n",
       "      dtype='object')"
      ]
     },
     "execution_count": 41,
     "metadata": {},
     "output_type": "execute_result"
    }
   ],
   "source": [
    "substinence_use_df.columns"
   ]
  },
  {
   "cell_type": "markdown",
   "id": "dbe31fe8-7899-4f08-9e57-4010adb6438c",
   "metadata": {},
   "source": [
    "### Check if any community changes status"
   ]
  },
  {
   "cell_type": "code",
   "execution_count": 46,
   "id": "37dac110-b6e2-4a0e-8bcd-948eb74dbc69",
   "metadata": {},
   "outputs": [
    {
     "name": "stdout",
     "output_type": "stream",
     "text": [
      "No communities change status with time\n"
     ]
    }
   ],
   "source": [
    "# Drop NaN and filter for relevant columns\n",
    "clean_df = substinence_use_df[['CommunityName', 'Year', 'SubsistenceAreaIndicator']].dropna()\n",
    "\n",
    "# Check if SubsistenceAreaIndicator changes for each community over time\n",
    "change_check = clean_df.groupby('CommunityName')['SubsistenceAreaIndicator'].nunique().reset_index()\n",
    "\n",
    "# Communities where the indicator changes over time\n",
    "changing_communities = change_check[change_check['SubsistenceAreaIndicator'] > 1]\n",
    "if changing_communities.empty:\n",
    "    print(\"No communities change status with time\")"
   ]
  },
  {
   "cell_type": "markdown",
   "id": "419aa092-54a7-47a3-adc8-0a7dd65b6c58",
   "metadata": {},
   "source": [
    "## Since they don't change only need community and status"
   ]
  },
  {
   "cell_type": "code",
   "execution_count": 53,
   "id": "bfd731af-6ddb-46e1-8fa6-f7eae80a6dff",
   "metadata": {},
   "outputs": [
    {
     "data": {
      "text/html": [
       "<div>\n",
       "<style scoped>\n",
       "    .dataframe tbody tr th:only-of-type {\n",
       "        vertical-align: middle;\n",
       "    }\n",
       "\n",
       "    .dataframe tbody tr th {\n",
       "        vertical-align: top;\n",
       "    }\n",
       "\n",
       "    .dataframe thead th {\n",
       "        text-align: right;\n",
       "    }\n",
       "</style>\n",
       "<table border=\"1\" class=\"dataframe\">\n",
       "  <thead>\n",
       "    <tr style=\"text-align: right;\">\n",
       "      <th></th>\n",
       "      <th>commname</th>\n",
       "      <th>relying_on_substinence</th>\n",
       "    </tr>\n",
       "  </thead>\n",
       "  <tbody>\n",
       "    <tr>\n",
       "      <th>0</th>\n",
       "      <td>Fox</td>\n",
       "      <td>NO</td>\n",
       "    </tr>\n",
       "    <tr>\n",
       "      <th>1</th>\n",
       "      <td>Skagway</td>\n",
       "      <td>YES</td>\n",
       "    </tr>\n",
       "    <tr>\n",
       "      <th>2</th>\n",
       "      <td>Tazlina</td>\n",
       "      <td>YES</td>\n",
       "    </tr>\n",
       "    <tr>\n",
       "      <th>3</th>\n",
       "      <td>Lakes</td>\n",
       "      <td>YES</td>\n",
       "    </tr>\n",
       "    <tr>\n",
       "      <th>4</th>\n",
       "      <td>Shishmaref</td>\n",
       "      <td>YES</td>\n",
       "    </tr>\n",
       "    <tr>\n",
       "      <th>...</th>\n",
       "      <td>...</td>\n",
       "      <td>...</td>\n",
       "    </tr>\n",
       "    <tr>\n",
       "      <th>408</th>\n",
       "      <td>Bettles</td>\n",
       "      <td>YES</td>\n",
       "    </tr>\n",
       "    <tr>\n",
       "      <th>409</th>\n",
       "      <td>Saint Lawrence Island</td>\n",
       "      <td>YES</td>\n",
       "    </tr>\n",
       "    <tr>\n",
       "      <th>410</th>\n",
       "      <td>Eagle Village</td>\n",
       "      <td>YES</td>\n",
       "    </tr>\n",
       "    <tr>\n",
       "      <th>411</th>\n",
       "      <td>Seward</td>\n",
       "      <td>NO</td>\n",
       "    </tr>\n",
       "    <tr>\n",
       "      <th>412</th>\n",
       "      <td>Koyukuk</td>\n",
       "      <td>YES</td>\n",
       "    </tr>\n",
       "  </tbody>\n",
       "</table>\n",
       "<p>413 rows × 2 columns</p>\n",
       "</div>"
      ],
      "text/plain": [
       "                  commname relying_on_substinence\n",
       "0                      Fox                     NO\n",
       "1                  Skagway                    YES\n",
       "2                  Tazlina                    YES\n",
       "3                    Lakes                    YES\n",
       "4               Shishmaref                    YES\n",
       "..                     ...                    ...\n",
       "408                Bettles                    YES\n",
       "409  Saint Lawrence Island                    YES\n",
       "410          Eagle Village                    YES\n",
       "411                 Seward                     NO\n",
       "412                Koyukuk                    YES\n",
       "\n",
       "[413 rows x 2 columns]"
      ]
     },
     "execution_count": 53,
     "metadata": {},
     "output_type": "execute_result"
    }
   ],
   "source": [
    "substinence_use_df = substinence_use_df[['CommunityName', 'SubsistenceAreaIndicator']]\n",
    "substinence_use_df.rename(columns={'CommunityName': 'commname', 'SubsistenceAreaIndicator': 'relying_on_substinence'}, inplace=True)\n",
    "substinence_use_df"
   ]
  },
  {
   "cell_type": "markdown",
   "id": "4dc3a52f-f2d1-434f-9350-59780fb86aef",
   "metadata": {},
   "source": [
    "## Need to save it on its own and add it in the master for community"
   ]
  },
  {
   "cell_type": "code",
   "execution_count": 54,
   "id": "8092b53e-9af3-499f-a031-a54caa786190",
   "metadata": {},
   "outputs": [],
   "source": [
    "substinence_use_df.to_csv(os.path.join(custom_data_directory, 'substinence_use_status_custom.csv'))"
   ]
  },
  {
   "cell_type": "markdown",
   "id": "a4e9dcdd",
   "metadata": {},
   "source": [
    "# Save the master_arcgis to csv"
   ]
  },
  {
   "cell_type": "code",
   "execution_count": 36,
   "id": "c6ddf11b",
   "metadata": {},
   "outputs": [],
   "source": [
    "custom_data_directory = '../../data/custom_data'\n",
    "\n",
    "# remove duplicates that come up because of carthesian products. Cannot identify which has duplicates,\n",
    "# but they have the same values for all colmuns so this is the cleanest way I thought of removing them\n",
    "master_arcgis = master_arcgis.drop_duplicates(subset=['Place', 'Year'])\n",
    "\n",
    "master_arcgis.to_csv(os.path.join(custom_data_directory, 'arcgis_custom.csv'))"
   ]
  },
  {
   "cell_type": "code",
   "execution_count": null,
   "id": "5e4c5d20-e69e-4139-8854-760d898700e3",
   "metadata": {},
   "outputs": [],
   "source": []
  },
  {
   "cell_type": "code",
   "execution_count": null,
   "id": "910abd32-8cb3-4e4e-a214-3ccbca6479cb",
   "metadata": {},
   "outputs": [],
   "source": []
  }
 ],
 "metadata": {
  "kernelspec": {
   "display_name": "Python 3 (ipykernel)",
   "language": "python",
   "name": "python3"
  },
  "language_info": {
   "codemirror_mode": {
    "name": "ipython",
    "version": 3
   },
   "file_extension": ".py",
   "mimetype": "text/x-python",
   "name": "python",
   "nbconvert_exporter": "python",
   "pygments_lexer": "ipython3",
   "version": "3.10.12"
  }
 },
 "nbformat": 4,
 "nbformat_minor": 5
}
