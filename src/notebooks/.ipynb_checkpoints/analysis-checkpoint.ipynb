{
 "cells": [
  {
   "cell_type": "markdown",
   "id": "d10e86b2-a143-498f-8918-9748074c27d8",
   "metadata": {},
   "source": [
    "# Data Analysis"
   ]
  },
  {
   "cell_type": "code",
   "execution_count": 3,
   "id": "1fa96b45-831f-4ce0-9e6b-725323b9159d",
   "metadata": {},
   "outputs": [],
   "source": [
    "import os\n",
    "import pandas as pd\n",
    "import statsmodels.formula.api as smf"
   ]
  },
  {
   "cell_type": "markdown",
   "id": "df5ad779-b3bb-4a9f-956d-dccece55ec9f",
   "metadata": {},
   "source": [
    "## Load the master dataset"
   ]
  },
  {
   "cell_type": "code",
   "execution_count": 5,
   "id": "d802ad56-a8c4-48bd-8b25-c4f7432a2342",
   "metadata": {},
   "outputs": [],
   "source": [
    "custom_data_directory = '../../data/custom_data'\n",
    "master_df = pd.read_csv(os.path.join(custom_data_directory, 'master.csv'))"
   ]
  },
  {
   "cell_type": "code",
   "execution_count": 7,
   "id": "0121109b-e095-4712-a355-5f38fa061507",
   "metadata": {},
   "outputs": [
    {
     "data": {
      "text/plain": [
       "Index(['Unnamed: 0', 'year', 'commname', 'region',\n",
       "       'top_lbs_wildfood_use_percapita', 'adj_households_in_community',\n",
       "       'IncorporationType', 'BoroughCensusArea', 'NativeRegionalHealthCarePro',\n",
       "       'SchoolDistrict', 'ClimateRegion', 'EnergyRegion', 'EconomicRegion',\n",
       "       'subreg', 'resource', 'using', 'trying', 'harvesting', 'giving',\n",
       "       'receving', 'units_harvested', 'pounds_harvested', 'harv_mes_units',\n",
       "       'units_harvested_by_sample', 'lbs_harvested_percapita',\n",
       "       'lbs_harvested_by_sample', 'lbs_used_percapita',\n",
       "       'perc_contribution_to_harvest', 'median_lbs_wildfood_use_percapita',\n",
       "       'labor_force', 'employed', 'unemployed', 'unemployment_rate',\n",
       "       'median_age', 'n_pop_under_14', 'n_pop_under_18', 'n_pop_18-65',\n",
       "       'n_pop_65-85', 'n_pop_over_85', 'n_families', 'median_family_income',\n",
       "       'n_households', 'n_houses', 'n_occupied_houses', 'house_vacancy_rate',\n",
       "       'n_people_below_poverty', 'n_households_below_poverty',\n",
       "       'n_people_under_18_below_poverty', 'n_people_18-64_below_poverty',\n",
       "       'n_people_65_plus_below_poverty', 'n_population_native',\n",
       "       'n_population_non_native', 'n_population_white', 'n_population_black',\n",
       "       'n_population_asian', 'n_population_male', 'n_population_female',\n",
       "       'n_total_population(ACS)', 'p_pop_under_14', 'p_pop_under_18',\n",
       "       'p_pop_18_65', 'p_pop_65_85', 'p_pop_over_85', 'p_families',\n",
       "       'p_households', 'p_occupied_houses', 'p_people_below_poverty',\n",
       "       'p_households_below_poverty', 'p_people_under_18_below_poverty',\n",
       "       'p_people_18_64_below_poverty', 'p_people_65_plus_below_poverty',\n",
       "       'p_population_native', 'p_population_non_native', 'p_population_white',\n",
       "       'p_population_black', 'p_population_asian', 'ratio_male_over_female',\n",
       "       'AGI_clean', 'Local_taxes_paid', 'total_tax_burden', 'local_tax_burden',\n",
       "       'federal_tax_burden', 'Number_of_returns', 'Gini', 'AGI'],\n",
       "      dtype='object')"
      ]
     },
     "execution_count": 7,
     "metadata": {},
     "output_type": "execute_result"
    }
   ],
   "source": [
    "master_df.columns"
   ]
  },
  {
   "cell_type": "code",
   "execution_count": 9,
   "id": "5a3cd5af-ff06-483a-af8e-26150248e6f0",
   "metadata": {},
   "outputs": [
    {
     "data": {
      "text/plain": [
       "[]"
      ]
     },
     "execution_count": 9,
     "metadata": {},
     "output_type": "execute_result"
    }
   ],
   "source": [
    "[x for x in master_df.columns.tolist() if 'land' in x]"
   ]
  },
  {
   "cell_type": "code",
   "execution_count": null,
   "id": "4f68fe62-1027-452f-a0e4-c6fc364a59df",
   "metadata": {},
   "outputs": [],
   "source": []
  }
 ],
 "metadata": {
  "kernelspec": {
   "display_name": "Python 3 (ipykernel)",
   "language": "python",
   "name": "python3"
  },
  "language_info": {
   "codemirror_mode": {
    "name": "ipython",
    "version": 3
   },
   "file_extension": ".py",
   "mimetype": "text/x-python",
   "name": "python",
   "nbconvert_exporter": "python",
   "pygments_lexer": "ipython3",
   "version": "3.10.12"
  }
 },
 "nbformat": 4,
 "nbformat_minor": 5
}
