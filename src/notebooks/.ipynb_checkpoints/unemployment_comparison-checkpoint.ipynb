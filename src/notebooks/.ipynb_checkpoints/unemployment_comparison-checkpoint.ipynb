{
 "cells": [
  {
   "cell_type": "markdown",
   "id": "265e40fc",
   "metadata": {},
   "source": [
    "# Comparing unemployment datasets\n",
    "\n",
    "The Alaskan Laborstats division offers different files.\n",
    "\n",
    "A complete, non-seasonally adjusted one available at: https://live.laborstats.alaska.gov/labforce/csv/AKlaborforce.csv\n",
    "While the area-specific ones through the website: https://live.laborstats.alaska.gov/data-pages/labor-force-home\n",
    "\n",
    "At first glance the complete file seemed to lack some areas, while offering a complete and continuous time-series.\n",
    "\n",
    "I compare the merged area-specific files with the total using my fuzzy matching function set to a 95-score for acceptance, to check for missing data.\n",
    "\n",
    "Conclusion: the complete file offered does not lack any area-specific data and has a complete time-series, while individual files do not."
   ]
  },
  {
   "cell_type": "code",
   "execution_count": 21,
   "id": "a19b13da",
   "metadata": {},
   "outputs": [],
   "source": [
    "import os\n",
    "import pandas as pd"
   ]
  },
  {
   "cell_type": "code",
   "execution_count": 22,
   "id": "3ddd9362",
   "metadata": {},
   "outputs": [],
   "source": [
    "custom_data_path = '../../data/custom_data/'\n",
    "laborstats_path = '../../data/alaskan_laborstats'"
   ]
  },
  {
   "cell_type": "code",
   "execution_count": 23,
   "id": "1412135d",
   "metadata": {},
   "outputs": [],
   "source": [
    "custom_unem = pd.read_csv(os.path.join(custom_data_path, 'unemployment_by_area_merged.csv'))\n",
    "compl_unem = pd.read_csv(os.path.join(laborstats_path, 'Alaska_NOT_SEASONALLY_adjusted.csv'))"
   ]
  },
  {
   "cell_type": "code",
   "execution_count": 24,
   "id": "8449b6b6",
   "metadata": {},
   "outputs": [
    {
     "data": {
      "text/plain": [
       "Index(['Unnamed: 0', 'Area Name', 'Area Type', 'Area Code', 'Year', 'month',\n",
       "       'period', 'Preliminary if value is 1', 'Labor Force', 'Employment',\n",
       "       'Unemployment', 'Unemployment Rate'],\n",
       "      dtype='object')"
      ]
     },
     "execution_count": 24,
     "metadata": {},
     "output_type": "execute_result"
    }
   ],
   "source": [
    "custom_unem.columns"
   ]
  },
  {
   "cell_type": "code",
   "execution_count": 25,
   "id": "f270efc1",
   "metadata": {},
   "outputs": [
    {
     "data": {
      "text/plain": [
       "Index(['Area Name', 'Area Type', 'Area Code', 'Year', 'month', 'period',\n",
       "       'Preliminary if value is 1', 'Labor Force', 'Employment',\n",
       "       'Unemployment', 'Unemployment Rate'],\n",
       "      dtype='object')"
      ]
     },
     "execution_count": 25,
     "metadata": {},
     "output_type": "execute_result"
    }
   ],
   "source": [
    "compl_unem.columns"
   ]
  },
  {
   "cell_type": "markdown",
   "id": "1b7b9aa6",
   "metadata": {},
   "source": [
    "## Area Name comparison"
   ]
  },
  {
   "cell_type": "code",
   "execution_count": 26,
   "id": "7569ef7e",
   "metadata": {},
   "outputs": [],
   "source": [
    "from fuzzywuzzy import process, fuzz\n",
    "\n",
    "def clean_location_name(name):\n",
    "    '''\n",
    "    Cleans location names by removing common suffixes that skew fuzzy matching.\n",
    "    '''\n",
    "    ignore_suffixes = [\"census designated place\", \"city\", \"road\", \"street\", \"highway\", \"borough\", \"area\", \"island\"]\n",
    "    for suffix in ignore_suffixes:\n",
    "        if name.lower().endswith(suffix):\n",
    "            name = name.rsplit(suffix, 1)[0].strip()\n",
    "    return name\n",
    "\n",
    "def match_names(trusted_df, trusted_col, other_df, other_col):\n",
    "    '''\n",
    "    Matches names between two dataframe columns, automatically rejecting low-confidence matches.\n",
    "    \n",
    "    Returns:\n",
    "    - Matched DataFrame with original and final names\n",
    "    - Unmatched names for manual review\n",
    "    '''\n",
    "\n",
    "    # Clean and strip names\n",
    "    trusted_unique = set(trusted_df[trusted_col].astype(str).str.strip().str.lower().apply(clean_location_name).unique())\n",
    "    other_unique = set(other_df[other_col].astype(str).str.strip().str.lower().apply(clean_location_name).unique())\n",
    "\n",
    "    matched_other_to_trusted = {}\n",
    "    unmatched_names = []\n",
    "\n",
    "    for name in other_unique:\n",
    "        for trusted_name in trusted_unique:\n",
    "            if trusted_name in name or name in trusted_name:\n",
    "                matched_other_to_trusted[name] = trusted_name\n",
    "                break\n",
    "        else:\n",
    "            match, score = process.extractOne(name, list(trusted_unique), scorer=fuzz.token_sort_ratio)\n",
    "            \n",
    "            if score >= 95:  # Almost perfect match\n",
    "                matched_other_to_trusted[name] = match\n",
    "            else:\n",
    "                unmatched_names.append(name)  # Log unmatched names\n",
    "\n",
    "    matched_df = pd.DataFrame(list(matched_other_to_trusted.items()), columns=[\"Original\", \"Matched\"])\n",
    "    unmatched_df = pd.DataFrame(unmatched_names, columns=[\"Unmatched\"])\n",
    "\n",
    "    return matched_df, unmatched_df"
   ]
  },
  {
   "cell_type": "code",
   "execution_count": 27,
   "id": "b2270d53",
   "metadata": {},
   "outputs": [
    {
     "data": {
      "text/html": [
       "<div>\n",
       "<style scoped>\n",
       "    .dataframe tbody tr th:only-of-type {\n",
       "        vertical-align: middle;\n",
       "    }\n",
       "\n",
       "    .dataframe tbody tr th {\n",
       "        vertical-align: top;\n",
       "    }\n",
       "\n",
       "    .dataframe thead th {\n",
       "        text-align: right;\n",
       "    }\n",
       "</style>\n",
       "<table border=\"1\" class=\"dataframe\">\n",
       "  <thead>\n",
       "    <tr style=\"text-align: right;\">\n",
       "      <th></th>\n",
       "      <th>Unmatched</th>\n",
       "    </tr>\n",
       "  </thead>\n",
       "  <tbody>\n",
       "  </tbody>\n",
       "</table>\n",
       "</div>"
      ],
      "text/plain": [
       "Empty DataFrame\n",
       "Columns: [Unmatched]\n",
       "Index: []"
      ]
     },
     "execution_count": 27,
     "metadata": {},
     "output_type": "execute_result"
    }
   ],
   "source": [
    "matched_df, unmatched_df = match_names(compl_unem, 'Area Name', custom_unem, 'Area Name')\n",
    "unmatched_df"
   ]
  },
  {
   "cell_type": "markdown",
   "id": "4c8eb5c1",
   "metadata": {},
   "source": [
    "# Findings\n",
    "Since the names matched, and thus all areas are covered by both datasets, the complete dataset provided will be integrated in my final dataset."
   ]
  }
 ],
 "metadata": {
  "kernelspec": {
   "display_name": "Python 3 (ipykernel)",
   "language": "python",
   "name": "python3"
  },
  "language_info": {
   "codemirror_mode": {
    "name": "ipython",
    "version": 3
   },
   "file_extension": ".py",
   "mimetype": "text/x-python",
   "name": "python",
   "nbconvert_exporter": "python",
   "pygments_lexer": "ipython3",
   "version": "3.12.3"
  }
 },
 "nbformat": 4,
 "nbformat_minor": 5
}
