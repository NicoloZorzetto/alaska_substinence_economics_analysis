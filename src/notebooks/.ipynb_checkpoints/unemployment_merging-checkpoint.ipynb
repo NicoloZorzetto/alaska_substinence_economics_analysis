{
 "cells": [
  {
   "cell_type": "markdown",
   "id": "9996fbb2",
   "metadata": {},
   "source": [
    "# Unemployment Merging\n",
    "The complete file available at https://dcra-cdo-dcced.opendata.arcgis.com/datasets/d2a90cf878c54d9c8ab43855a1bcb668_4/explore?filters=eyJBcmVhVHlwZSI6WzQsNF19&location=56.586274%2C-154.418506%2C5.00 is not downloadable.\n",
    "And the 'complete' file for unemployment available at: https://live.laborstats.alaska.gov/labforce/csv/AKlaborforce.csv; does not seem complete at first glance.\n",
    "\n",
    "I thus manually downloaded each area and borough's data from the Alaskan Uneployment Rate homepage: https://live.laborstats.alaska.gov/data-pages/labor-force-home and now need to merge them to then compare this data to the complete set."
   ]
  },
  {
   "cell_type": "code",
   "execution_count": 19,
   "id": "d165440b",
   "metadata": {},
   "outputs": [],
   "source": [
    "import os\n",
    "import pandas as pd"
   ]
  },
  {
   "cell_type": "code",
   "execution_count": 20,
   "id": "6f973404",
   "metadata": {},
   "outputs": [],
   "source": [
    "laborstats_path = '../../data/alaskan_laborstats'\n",
    "unem_path = '../../data/alaskan_laborstats/unemployment_by_area/'\n",
    "\n",
    "file_list = []\n",
    "for file in os.walk(unem_path):\n",
    "    file_list.append(file)\n",
    "    \n",
    "# get the actual list from the touple\n",
    "file_list = file_list[0][2]\n",
    "file_list = [os.path.join(unem_path, file) for file in file_list]"
   ]
  },
  {
   "cell_type": "code",
   "execution_count": 21,
   "id": "2077558f",
   "metadata": {},
   "outputs": [
    {
     "data": {
      "text/plain": [
       "['../../data/alaskan_laborstats/unemployment_by_area/Petersburg Borough_NOT_SEASONALLY_adjusted.csv',\n",
       " '../../data/alaskan_laborstats/unemployment_by_area/Kenai Peninsula Borough_NOT_SEASONALLY_adjusted.csv',\n",
       " '../../data/alaskan_laborstats/unemployment_by_area/Northwest Arctic Borough_NOT_SEASONALLY_adjusted.csv',\n",
       " '../../data/alaskan_laborstats/unemployment_by_area/City and Borough of Juneau_NOT_SEASONALLY_adjusted.csv',\n",
       " '../../data/alaskan_laborstats/unemployment_by_area/Nome Census Area_NOT_SEASONALLY_adjusted.csv',\n",
       " '../../data/alaskan_laborstats/unemployment_by_area/North Slope Borough_NOT_SEASONALLY_adjusted.csv',\n",
       " '../../data/alaskan_laborstats/unemployment_by_area/Hoonah-Angoon Census Area_NOT_SEASONALLY_adjusted.csv',\n",
       " '../../data/alaskan_laborstats/unemployment_by_area/Fairbanks North Star Borough_NOT_SEASONALLY_adjusted.csv',\n",
       " '../../data/alaskan_laborstats/unemployment_by_area/Lake and Peninsula Borough_NOT_SEASONALLY_adjusted.csv',\n",
       " '../../data/alaskan_laborstats/unemployment_by_area/Matanuska-Susitna Borough_NOT_SEASONALLY_adjusted.csv',\n",
       " '../../data/alaskan_laborstats/unemployment_by_area/Aleutians West Census Area_NOT_SEASONALLY_adjusted.csv',\n",
       " '../../data/alaskan_laborstats/unemployment_by_area/Bethel Census Area_NOT_SEASONALLY_adjusted.csv',\n",
       " '../../data/alaskan_laborstats/unemployment_by_area/Dillingham Census Area_NOT_SEASONALLY_adjusted.csv',\n",
       " '../../data/alaskan_laborstats/unemployment_by_area/City and Borough of Sitka_NOT_SEASONALLY_adjusted.csv',\n",
       " '../../data/alaskan_laborstats/unemployment_by_area/Prince of Wales-Hyder Census Area_NOT_SEASONALLY_adjusted.csv',\n",
       " '../../data/alaskan_laborstats/unemployment_by_area/Haines Borough_NOT_SEASONALLY_adjusted.csv',\n",
       " '../../data/alaskan_laborstats/unemployment_by_area/Bristol Bay Borough_NOT_SEASONALLY_adjusted.csv',\n",
       " '../../data/alaskan_laborstats/unemployment_by_area/Kusilvak Census Area_NOT_SEASONALLY_adjusted.csv',\n",
       " '../../data/alaskan_laborstats/unemployment_by_area/Denali Borough_NOT_SEASONALLY_adjusted.csv',\n",
       " '../../data/alaskan_laborstats/unemployment_by_area/Municipality of Skagway_NOT_SEASONALLY_adjusted.csv',\n",
       " '../../data/alaskan_laborstats/unemployment_by_area/Yukon-Koyukuk Census Area_NOT_SEASONALLY_adjusted.csv',\n",
       " '../../data/alaskan_laborstats/unemployment_by_area/Ketchikan Gateway Borough_NOT_SEASONALLY_adjusted.csv',\n",
       " '../../data/alaskan_laborstats/unemployment_by_area/Copper River Census Area_NOT_SEASONALLY_adjusted.csv',\n",
       " '../../data/alaskan_laborstats/unemployment_by_area/City and Borough of Wrangell_NOT_SEASONALLY_adjusted.csv',\n",
       " '../../data/alaskan_laborstats/unemployment_by_area/Chugach Census Area_NOT_SEASONALLY_adjusted.csv',\n",
       " '../../data/alaskan_laborstats/unemployment_by_area/Kodiak Island Borough_NOT_SEASONALLY_adjusted.csv',\n",
       " '../../data/alaskan_laborstats/unemployment_by_area/City and Borough of Yakutat_NOT_SEASONALLY_adjusted.csv',\n",
       " '../../data/alaskan_laborstats/unemployment_by_area/Southeast Fairbanks Census Area_NOT_SEASONALLY_adjusted.csv',\n",
       " '../../data/alaskan_laborstats/unemployment_by_area/Aleutians East Borough_NOT_SEASONALLY_adjusted.csv',\n",
       " '../../data/alaskan_laborstats/unemployment_by_area/Municipality of Anchorage_NOT_SEASONALLY_adjusted.csv']"
      ]
     },
     "execution_count": 21,
     "metadata": {},
     "output_type": "execute_result"
    }
   ],
   "source": [
    "file_list"
   ]
  },
  {
   "cell_type": "code",
   "execution_count": 22,
   "id": "90c6ce6e",
   "metadata": {},
   "outputs": [],
   "source": [
    "# Load and clean all CSV files\n",
    "dataframes = []\n",
    "for file in file_list:\n",
    "    df = pd.read_csv(file, skiprows=1)\n",
    "    dataframes.append(df)\n",
    "\n",
    "merged = pd.concat(dataframes, ignore_index=True)\n",
    "merged.sort_values('Area Name', inplace = True)"
   ]
  },
  {
   "cell_type": "code",
   "execution_count": 23,
   "id": "db333610",
   "metadata": {},
   "outputs": [],
   "source": [
    "custom_data_path = '../../data/custom_data/'\n",
    "merged.to_csv(os.path.join(custom_data_path, 'unemployment_by_area_merged.csv'))"
   ]
  },
  {
   "cell_type": "code",
   "execution_count": 24,
   "id": "e7b5755b",
   "metadata": {},
   "outputs": [
    {
     "data": {
      "text/plain": [
       "Index(['Area Name', 'Area Type', 'Area Code', 'Year', 'month', 'period',\n",
       "       'Preliminary if value is 1', 'Labor Force', 'Employment',\n",
       "       'Unemployment', 'Unemployment Rate'],\n",
       "      dtype='object')"
      ]
     },
     "execution_count": 24,
     "metadata": {},
     "output_type": "execute_result"
    }
   ],
   "source": [
    "merged.columns"
   ]
  },
  {
   "cell_type": "code",
   "execution_count": null,
   "id": "9b47e1b8",
   "metadata": {},
   "outputs": [],
   "source": []
  }
 ],
 "metadata": {
  "kernelspec": {
   "display_name": "Python 3 (ipykernel)",
   "language": "python",
   "name": "python3"
  },
  "language_info": {
   "codemirror_mode": {
    "name": "ipython",
    "version": 3
   },
   "file_extension": ".py",
   "mimetype": "text/x-python",
   "name": "python",
   "nbconvert_exporter": "python",
   "pygments_lexer": "ipython3",
   "version": "3.12.3"
  }
 },
 "nbformat": 4,
 "nbformat_minor": 5
}
