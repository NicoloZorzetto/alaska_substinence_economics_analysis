{
 "cells": [
  {
   "cell_type": "markdown",
   "id": "05a630ce-6e91-4a93-ab93-6e9b8507c782",
   "metadata": {},
   "source": [
    "# Master merge\n",
    "The code below is used to create a csv file in which I compile different datasets from different sources.\n",
    "\n",
    "All individual manipulation and source-aligned merges (merging of different files from same sources) is done exclusively with code, collected in the appropriately named jupyter-notebooks."
   ]
  },
  {
   "cell_type": "markdown",
   "id": "bf8522fc-3d65-461b-bc4b-4e7b986b1904",
   "metadata": {},
   "source": [
    "## Data Sources\n",
    "- Substinence data (ADF&G): https://adfg-ak-subsistence.shinyapps.io/CSIS-Data-Downloader/\n",
    "- Borough and census areas (DCRA): https://dcra-cdo-dcced.opendata.arcgis.com/datasets/d748e3b58c654b64825f974c25b3c697_0/explore\n",
    "- Unemployment (Laborstats): https://live.laborstats.alaska.gov/labforce/csv/AKlaborforce.csv"
   ]
  },
  {
   "cell_type": "markdown",
   "id": "ceaf7422",
   "metadata": {},
   "source": [
    "# Operations\n",
    "- Open the dataset in question (souce-specific) as Pandas DataFrame\n",
    "- Merge into a master DataFrame using namematch to align community or area and year\n",
    "- Save the end master DataFrame into a csv file for susequent analysis"
   ]
  },
  {
   "cell_type": "markdown",
   "id": "a17381a8",
   "metadata": {},
   "source": [
    "## Name matching\n",
    "Since community, borough and region names don't follow the same conventions (some have 'Borough', some have 'Area', etc.) I use this function built on top of the fuzzywuzzy library to check the similarity between strings (names) in a reproduceable and clear way.\n",
    "\n",
    "The 95-score has been chosen after a bit of trial and error. Manual check of the matchings show no forced ones and very few to none wrongful rejections."
   ]
  },
  {
   "cell_type": "code",
   "execution_count": 41,
   "id": "56b0d6fb",
   "metadata": {},
   "outputs": [],
   "source": [
    "from fuzzywuzzy import process, fuzz\n",
    "\n",
    "def clean_location_name(name):\n",
    "    '''\n",
    "    Cleans location names by removing common suffixes that skew fuzzy matching.\n",
    "    '''\n",
    "    ignore_suffixes = [\"census designated place\", \"city\", \"road\", \"street\", \"highway\", \"borough\", \"area\", \"island\"]\n",
    "    for suffix in ignore_suffixes:\n",
    "        if name.lower().endswith(suffix):\n",
    "            name = name.rsplit(suffix, 1)[0].strip()\n",
    "    return name\n",
    "\n",
    "def match_names(trusted_df, trusted_col, other_df, other_col):\n",
    "    '''\n",
    "    Matches names between two dataframe columns, automatically rejecting low-confidence matches.\n",
    "    \n",
    "    Returns:\n",
    "    - Matched DataFrame with original and final names\n",
    "    - Unmatched names for manual review\n",
    "    '''\n",
    "\n",
    "    # Clean and strip names\n",
    "    trusted_unique = set(trusted_df[trusted_col].astype(str).str.strip().str.lower().apply(clean_location_name).unique())\n",
    "    other_unique = set(other_df[other_col].astype(str).str.strip().str.lower().apply(clean_location_name).unique())\n",
    "\n",
    "    matched_other_to_trusted = {}\n",
    "    unmatched_names = []\n",
    "\n",
    "    for name in other_unique:\n",
    "        for trusted_name in trusted_unique:\n",
    "            if trusted_name in name or name in trusted_name:\n",
    "                matched_other_to_trusted[name] = trusted_name\n",
    "                break\n",
    "        else:\n",
    "            match, score = process.extractOne(name, list(trusted_unique), scorer=fuzz.token_sort_ratio)\n",
    "            \n",
    "            if score >= 95:  # Almost perfect match\n",
    "                matched_other_to_trusted[name] = match\n",
    "            else:\n",
    "                unmatched_names.append(name)  # Log unmatched names\n",
    "\n",
    "    matched_df = pd.DataFrame(list(matched_other_to_trusted.items()), columns=[\"Original\", \"Matched\"])\n",
    "    unmatched_df = pd.DataFrame(unmatched_names, columns=[\"Unmatched\"])\n",
    "\n",
    "    return matched_df, unmatched_df"
   ]
  },
  {
   "cell_type": "markdown",
   "id": "058be475",
   "metadata": {},
   "source": [
    "# Merging"
   ]
  },
  {
   "cell_type": "code",
   "execution_count": 42,
   "id": "bf2ffdd1",
   "metadata": {},
   "outputs": [],
   "source": [
    "import os\n",
    "import pandas as pd\n",
    "\n",
    "custom_data_directory = '../../data/custom_data'"
   ]
  },
  {
   "cell_type": "markdown",
   "id": "079a9a32",
   "metadata": {},
   "source": [
    "## Alaskan Department of Fish and Game\n",
    "I will use this dataset about fishing, hunting and gathering as initial base for the construction of the master dataset to use for statistical analysis."
   ]
  },
  {
   "cell_type": "code",
   "execution_count": 43,
   "id": "d316f1cb",
   "metadata": {},
   "outputs": [],
   "source": [
    "adfg_df = pd.read_csv(os.path.join(custom_data_directory, 'adfg_custom.csv'))\n",
    "master_df = adfg_df"
   ]
  },
  {
   "cell_type": "markdown",
   "id": "0993486e-9ad3-42ca-8a6d-7e38ceda09e2",
   "metadata": {},
   "source": [
    "## Substinence Use\n",
    "I add this because it serves as dummy for the recognition of communities as relying on substinence activities for their survival, or not."
   ]
  },
  {
   "cell_type": "code",
   "execution_count": 44,
   "id": "614d8648-cedb-4206-b251-0e8f9a95fe36",
   "metadata": {},
   "outputs": [
    {
     "data": {
      "text/plain": [
       "Index(['Unnamed: 0', 'commname', 'relying_on_substinence'], dtype='object')"
      ]
     },
     "execution_count": 44,
     "metadata": {},
     "output_type": "execute_result"
    }
   ],
   "source": [
    "substinence_use_df  = pd.read_csv(os.path.join(custom_data_directory, 'substinence_use_status_custom.csv'))\n",
    "substinence_use_df.columns"
   ]
  },
  {
   "cell_type": "markdown",
   "id": "e1187e23-4f59-4814-9e20-67f1bf2614de",
   "metadata": {},
   "source": [
    "### Name match"
   ]
  },
  {
   "cell_type": "code",
   "execution_count": 45,
   "id": "21e8f3f6-0301-4887-b541-48711307cbba",
   "metadata": {},
   "outputs": [],
   "source": [
    "matched_df, unmatched_df = match_names(master_df, 'commname', substinence_use_df, 'commname')"
   ]
  },
  {
   "cell_type": "markdown",
   "id": "eb89c147-b309-4ee5-9022-fe69fa832cb2",
   "metadata": {},
   "source": [
    "### Merge"
   ]
  },
  {
   "cell_type": "code",
   "execution_count": 46,
   "id": "d78780ed-505a-496b-835d-7016e589f6e2",
   "metadata": {},
   "outputs": [],
   "source": [
    "name_mapping = dict(zip(matched_df[\"Original\"], matched_df[\"Matched\"]))\n",
    "\n",
    "substinence_use_df[\"commname\"] = substinence_use_df[\"commname\"].replace(name_mapping)\n",
    "\n",
    "master_df = master_df.merge(substinence_use_df, left_on=\"commname\", right_on=\"commname\", how=\"left\")\n",
    "\n",
    "master_df.drop(columns=[\"Unnamed: 0_x\", \"Unnamed: 0_y\"], inplace=True)"
   ]
  },
  {
   "cell_type": "markdown",
   "id": "b98b415c",
   "metadata": {},
   "source": [
    "## Borough and census area\n",
    "Since some data is only available per-census area or boroughs - Alaskan equivalent of counties - I will add the census area to each community, from the arcgis database's 'Community and Regions Overview'.\n",
    "\n",
    "Source: https://dcra-cdo-dcced.opendata.arcgis.com/datasets/d748e3b58c654b64825f974c25b3c697_0/explore"
   ]
  },
  {
   "cell_type": "code",
   "execution_count": 47,
   "id": "facc1371",
   "metadata": {},
   "outputs": [
    {
     "data": {
      "text/plain": [
       "Index(['Unnamed: 0', 'CommunityName', 'IncorporationType', 'BoroughCensusArea',\n",
       "       'NativeRegionalHealthCarePro', 'SchoolDistrict', 'ClimateRegion',\n",
       "       'EnergyRegion', 'EconomicRegion', 'sqMiLand', 'sqMiWater'],\n",
       "      dtype='object')"
      ]
     },
     "execution_count": 47,
     "metadata": {},
     "output_type": "execute_result"
    }
   ],
   "source": [
    "comm_and_reg_df = pd.read_csv(os.path.join(custom_data_directory, 'comm_and_reg_custom.csv'))\n",
    "comm_and_reg_df.columns"
   ]
  },
  {
   "cell_type": "markdown",
   "id": "7da1124f",
   "metadata": {},
   "source": [
    "### Check if all community names are homogeneous"
   ]
  },
  {
   "cell_type": "code",
   "execution_count": 48,
   "id": "82dd7ac8",
   "metadata": {},
   "outputs": [
    {
     "data": {
      "text/plain": [
       "False"
      ]
     },
     "execution_count": 48,
     "metadata": {},
     "output_type": "execute_result"
    }
   ],
   "source": [
    "comm_and_reg_comm = set(comm_and_reg_df['CommunityName'].astype(str).str.strip().str.lower().unique().tolist())\n",
    "master_df_comm = set(master_df['commname'].astype(str).str.strip().str.lower().unique().tolist())\n",
    "\n",
    "master_df_comm.issubset(comm_and_reg_comm)"
   ]
  },
  {
   "cell_type": "markdown",
   "id": "00f4be5a",
   "metadata": {},
   "source": [
    "## Name match and merge"
   ]
  },
  {
   "cell_type": "code",
   "execution_count": 49,
   "id": "bfcdf83c",
   "metadata": {},
   "outputs": [],
   "source": [
    "matched_df, unmatched_df = match_names(master_df, 'commname', comm_and_reg_df, 'CommunityName')\n",
    "# Manually check matches\n",
    "# matched_df"
   ]
  },
  {
   "cell_type": "code",
   "execution_count": 50,
   "id": "80c79316",
   "metadata": {},
   "outputs": [
    {
     "data": {
      "text/plain": [
       "Index(['year', 'commname', 'region', 'subreg', 'resource', 'used', 'trying',\n",
       "       'hrvsting', 'giving', 'receving', 'xtotnum', 'xtotlbs', 'units',\n",
       "       'numharv', 'percap', 'totlbhrv', 'mupch', 'pcttotal', 'mupc', 'xupc',\n",
       "       'commhh', 'relying_on_substinence', 'Unnamed: 0', 'IncorporationType',\n",
       "       'BoroughCensusArea', 'NativeRegionalHealthCarePro', 'SchoolDistrict',\n",
       "       'ClimateRegion', 'EnergyRegion', 'EconomicRegion', 'sqMiLand',\n",
       "       'sqMiWater'],\n",
       "      dtype='object')"
      ]
     },
     "execution_count": 50,
     "metadata": {},
     "output_type": "execute_result"
    }
   ],
   "source": [
    "# Use the matches to create a mapping dictionary\n",
    "name_mapping = dict(zip(matched_df[\"Original\"], matched_df[\"Matched\"]))\n",
    "\n",
    "comm_and_reg_df[\"CommunityName\"] = comm_and_reg_df[\"CommunityName\"].replace(name_mapping)\n",
    "\n",
    "master_df = master_df.merge(comm_and_reg_df, left_on=\"commname\", right_on=\"CommunityName\", how=\"left\")\n",
    "\n",
    "master_df.drop(columns=[\"CommunityName\"], inplace=True)\n",
    "master_df.columns"
   ]
  },
  {
   "cell_type": "markdown",
   "id": "2f3cd8ff",
   "metadata": {},
   "source": [
    "### Rename and reorder columns"
   ]
  },
  {
   "cell_type": "code",
   "execution_count": 51,
   "id": "80a47b94",
   "metadata": {},
   "outputs": [],
   "source": [
    "merge_col_list = master_df.columns.tolist()\n",
    "# print(f\"{i} \\t {x}\") for i, x in enumerate(merge_col_list)]\n",
    "# this order has been manually chosen from the abpove printing of columns\n",
    "new_merge_col_list = merge_col_list[0:4] + merge_col_list[20:33] + merge_col_list[4:20]"
   ]
  },
  {
   "cell_type": "code",
   "execution_count": 52,
   "id": "b875f509",
   "metadata": {},
   "outputs": [],
   "source": [
    "master_df = master_df[new_merge_col_list]\n",
    "# master_df"
   ]
  },
  {
   "cell_type": "code",
   "execution_count": 53,
   "id": "8dc1ad16",
   "metadata": {},
   "outputs": [
    {
     "data": {
      "text/plain": [
       "Index(['year', 'commname', 'region', 'subreg', 'adj_households_in_community',\n",
       "       'relying_on_substinence', 'Unnamed: 0', 'IncorporationType',\n",
       "       'BoroughCensusArea', 'NativeRegionalHealthCarePro', 'SchoolDistrict',\n",
       "       'ClimateRegion', 'EnergyRegion', 'EconomicRegion', 'sqMiLand',\n",
       "       'sqMiWater', 'resource', 'using', 'trying', 'harvesting', 'giving',\n",
       "       'receving', 'units_harvested', 'pounds_harvested', 'harv_mes_units',\n",
       "       'units_harvested_by_sample', 'lbs_harvested_percapita',\n",
       "       'lbs_harvested_by_sample', 'lbs_used_percapita',\n",
       "       'perc_contribution_to_harvest', 'median_lbs_wildfood_use_percapita',\n",
       "       'top_lbs_wildfood_use_percapita'],\n",
       "      dtype='object')"
      ]
     },
     "execution_count": 53,
     "metadata": {},
     "output_type": "execute_result"
    }
   ],
   "source": [
    "master_df.rename(columns={'used': 'using', \n",
    "                          'hrvsting': 'harvesting', \n",
    "                            'xtotnum': 'units_harvested', 'xtotlbs': 'pounds_harvested', \n",
    "                            'units': 'harv_mes_units', 'numharv': 'units_harvested_by_sample', \n",
    "                            'percap': 'lbs_harvested_percapita', 'totlbhrv': 'lbs_harvested_by_sample', \n",
    "                            'mupch': 'lbs_used_percapita', 'pcttotal': 'perc_contribution_to_harvest',\n",
    "                            'mupc': 'median_lbs_wildfood_use_percapita',\n",
    "                            'xupc': 'top_lbs_wildfood_use_percapita', \n",
    "                           'commhh': 'adj_households_in_community'}, inplace=True)\n",
    "master_df.columns"
   ]
  },
  {
   "cell_type": "markdown",
   "id": "6c0592fa",
   "metadata": {},
   "source": [
    "## Merging unemployment data\n",
    "Since the Unemployment Comparison analysis showed that both the ADFG's and the Alaskan laborstats' dataset contain the same census areas, and the foremost has the most time-varied spread, I will integrate that.\n",
    "\n",
    "Source: https://live.laborstats.alaska.gov/labforce/csv/AKlaborforce.csv"
   ]
  },
  {
   "cell_type": "code",
   "execution_count": 54,
   "id": "a2b5cd96",
   "metadata": {},
   "outputs": [],
   "source": [
    "laborstats_path = '../../data/alaskan_laborstats/'\n",
    "unem_df = pd.read_csv(os.path.join(laborstats_path, 'Alaska_NOT_SEASONALLY_adjusted.csv'))"
   ]
  },
  {
   "cell_type": "markdown",
   "id": "65c0666b",
   "metadata": {},
   "source": [
    "### Data prep\n",
    "The dataset contains monthly data, while only yearly substinence harvest data is available.\n",
    "\n",
    "I will filter for readily-provided 'Annual' data (identified with period 0, or 'Annual' as Month)"
   ]
  },
  {
   "cell_type": "code",
   "execution_count": 55,
   "id": "bef3563b",
   "metadata": {},
   "outputs": [],
   "source": [
    "unem_df = unem_df[unem_df['month'] == 'Annual'].copy()"
   ]
  },
  {
   "cell_type": "markdown",
   "id": "164180ba",
   "metadata": {},
   "source": [
    "### Dropping columns we don't want and renaming the others for consistency\n",
    "No need for month, period, or preliminary columns."
   ]
  },
  {
   "cell_type": "code",
   "execution_count": 56,
   "id": "22f0dd16",
   "metadata": {},
   "outputs": [],
   "source": [
    "cols_to_keep = ['Area Name', 'Year', 'Labor Force', 'Employment', 'Unemployment', 'Unemployment Rate']\n",
    "unem_df = unem_df[cols_to_keep].copy()"
   ]
  },
  {
   "cell_type": "code",
   "execution_count": 57,
   "id": "adf4256f",
   "metadata": {},
   "outputs": [],
   "source": [
    "unem_df.rename(columns={'Area Name': 'area_name', 'Year': 'year', 'Labor Force': 'labor_force', \n",
    "                        'Employment': 'employed', 'Unemployment': 'unemployed', \n",
    "                        'Unemployment Rate': 'unemployment_rate'}, inplace=True)"
   ]
  },
  {
   "cell_type": "markdown",
   "id": "e4bdd255",
   "metadata": {},
   "source": [
    "## Name match"
   ]
  },
  {
   "cell_type": "code",
   "execution_count": 58,
   "id": "2ae10ae9",
   "metadata": {},
   "outputs": [],
   "source": [
    "matched_df, unmatched_df = match_names(master_df, 'BoroughCensusArea', unem_df, 'area_name')"
   ]
  },
  {
   "cell_type": "markdown",
   "id": "bfec6ccf",
   "metadata": {},
   "source": [
    "### Merge"
   ]
  },
  {
   "cell_type": "code",
   "execution_count": 59,
   "id": "c3694b17",
   "metadata": {},
   "outputs": [],
   "source": [
    "name_mapping = dict(zip(matched_df[\"Original\"], matched_df[\"Matched\"]))\n",
    "\n",
    "unem_df[\"area_name\"] = unem_df[\"area_name\"].replace(name_mapping)\n",
    "\n",
    "master_df = master_df.merge(\n",
    "    unem_df, \n",
    "    left_on=[\"BoroughCensusArea\", \"year\"],  # Assuming this is the key in master_merge\n",
    "    right_on=[\"area_name\", \"year\"], \n",
    "    how=\"left\"\n",
    ")\n",
    "\n",
    "\n",
    "master_df.drop(columns=[\"area_name\"], inplace=True)"
   ]
  },
  {
   "cell_type": "markdown",
   "id": "64ebd43d",
   "metadata": {},
   "source": [
    "## ACS Files <- maybe arcgis?\n",
    "Sources for the custom file:\n",
    "- Household income and benefits: https://dcra-cdo-dcced.opendata.arcgis.com/datasets/5b535254c9f649f9b7ffe52a476052c4_3/explore\n",
    "- Family Income and Benefits: https://dcra-cdo-dcced.opendata.arcgis.com/datasets/5b535254c9f649f9b7ffe52a476052c4_3/explore?location=50.133297%2C34.600000%2C3.89\n",
    "- Income and Poverty: https://dcra-cdo-dcced.opendata.arcgis.com/datasets/f4b63e8b2c3042a98130505df1422730_9/explore?location=50.133297%2C34.600000%2C3.89\n",
    "- Population Characteristics Housing: https://dcra-cdo-dcced.opendata.arcgis.com/datasets/14f0b44db2da4f55b2adf7bb5602bead_6/explore\n",
    "- Population Characteristics Race: https://dcra-cdo-dcced.opendata.arcgis.com/datasets/30ab75bf594f48349c4ff536957869f8_1/explore?location=42.493141%2C34.600000%2C3.48\n",
    "- Population Characteristics Sex: https://dcra-cdo-dcced.opendata.arcgis.com/datasets/fa3ad93528b24f7c9ba298a68c04920d_0/explore?location=45.540112%2C34.600000%2C3.63\n",
    "- Population Characteristics Age: https://dcra-cdo-dcced.opendata.arcgis.com/datasets/63cb9ba34b914f7c89a2394b47d4319e_5/explore?location=46.265046%2C34.600000%2C3.67"
   ]
  },
  {
   "cell_type": "code",
   "execution_count": 60,
   "id": "6073a57b",
   "metadata": {},
   "outputs": [],
   "source": [
    "arcgis_df = pd.read_csv(os.path.join(custom_data_directory, 'arcgis_custom.csv'))"
   ]
  },
  {
   "cell_type": "code",
   "execution_count": 61,
   "id": "980bdc56",
   "metadata": {},
   "outputs": [],
   "source": [
    "# arcgis_df"
   ]
  },
  {
   "cell_type": "code",
   "execution_count": 62,
   "id": "83df7de1",
   "metadata": {},
   "outputs": [],
   "source": [
    "# master_df"
   ]
  },
  {
   "cell_type": "code",
   "execution_count": 63,
   "id": "3fb2320c",
   "metadata": {},
   "outputs": [],
   "source": [
    "# Name match\n",
    "matched_df, unmatched_df = match_names(master_df, 'BoroughCensusArea', arcgis_df, 'Place')\n",
    "# matched_df"
   ]
  },
  {
   "cell_type": "code",
   "execution_count": 64,
   "id": "9f6bd309",
   "metadata": {},
   "outputs": [],
   "source": [
    "name_mapping = dict(zip(matched_df['Original'], matched_df['Matched']))\n",
    "\n",
    "arcgis_df['Place'] = arcgis_df['Place'].replace(name_mapping)\n",
    "\n",
    "master_df = master_df.merge(arcgis_df, \n",
    "                            left_on=['BoroughCensusArea', 'year'], \n",
    "                            right_on=['Place', 'Year'], \n",
    "                            how='left')\n",
    "\n",
    "master_df.drop(columns=['Unnamed: 0_x', 'Unnamed: 0_y', 'Place', 'Year'], inplace=True)"
   ]
  },
  {
   "cell_type": "code",
   "execution_count": 65,
   "id": "2a0c3ae7",
   "metadata": {},
   "outputs": [],
   "source": [
    "# master_df.columns.tolist()"
   ]
  },
  {
   "cell_type": "markdown",
   "id": "3786ba6d",
   "metadata": {},
   "source": [
    "## Merging IRS data\n",
    "The original datasets are organized yes by borough and year, but also by tax braket.\n",
    "What I did in the merging was just to concatenate them to have all years and boroughs, and to compute tax burdens and cleaned up AGI.\n",
    "\n",
    "I will now aggregate the data to have one row per area (borough) and year, without tax braket division.\n",
    "\n",
    "source of repository: https://www.irs.gov/downloads/irs-soi?page=17"
   ]
  },
  {
   "cell_type": "code",
   "execution_count": 66,
   "id": "181e5a7b",
   "metadata": {},
   "outputs": [],
   "source": [
    "irs_df = pd.read_csv(os.path.join(custom_data_directory, 'irs_taxes_custom.csv'))\n",
    "# irs_df.columns.tolist()"
   ]
  },
  {
   "cell_type": "code",
   "execution_count": 67,
   "id": "0ad5258a",
   "metadata": {},
   "outputs": [
    {
     "name": "stderr",
     "output_type": "stream",
     "text": [
      "/var/folders/0v/j0hxt2dd7zb_l4cbghh38tkc0000gn/T/ipykernel_32709/1547794919.py:4: DeprecationWarning: DataFrameGroupBy.apply operated on the grouping columns. This behavior is deprecated, and in a future version of pandas the grouping columns will be excluded from the operation. Either pass `include_groups=False` to exclude the groupings or explicitly select the grouping columns after groupby to silence this warning.\n",
      "  agg_irs = irs_df.groupby(['year', 'county']).apply(\n"
     ]
    }
   ],
   "source": [
    "import numpy as np\n",
    "\n",
    "# Aggregate IRS data by year and county\n",
    "agg_irs = irs_df.groupby(['year', 'county']).apply(\n",
    "    lambda g: pd.Series({\n",
    "        'AGI_clean': g['AGI_clean'].sum(),\n",
    "        'Local_taxes_paid': g['Local_taxes_paid'].sum(),\n",
    "        'total_tax_burden': (g['AGI_clean'] * g['total_tax_burden']).sum() / g['AGI_clean'].sum() if g['AGI_clean'].sum() > 0 else np.nan,\n",
    "        'local_tax_burden': (g['AGI_clean'] * g['local_tax_burden']).sum() / g['AGI_clean'].sum() if g['AGI_clean'].sum() > 0 else np.nan,\n",
    "        'federal_tax_burden': (g['AGI_clean'] * g['federal_tax_burden']).sum() / g['AGI_clean'].sum() if g['AGI_clean'].sum() > 0 else np.nan,\n",
    "        'Number_of_returns': g['Number_of_returns'].sum(),\n",
    "        'Gini': (g['Gini'] * g['Number_of_returns']).sum() / g['Number_of_returns'].sum() if g['Number_of_returns'].sum() > 0 else np.nan\n",
    "    })\n",
    ").reset_index()\n",
    "\n",
    "agg_irs['AGI'] = irs_df['Adjusted gross income (AGI)']\n",
    "\n"
   ]
  },
  {
   "cell_type": "code",
   "execution_count": 68,
   "id": "6bb40654",
   "metadata": {},
   "outputs": [],
   "source": [
    "# Name match\n",
    "matched_df, unmatched_df = match_names(master_df, 'BoroughCensusArea', agg_irs, 'county')\n",
    "name_mapping = dict(zip(matched_df['Original'], matched_df['Matched']))\n",
    "agg_irs['county'] = agg_irs['county'].replace(name_mapping)"
   ]
  },
  {
   "cell_type": "code",
   "execution_count": 69,
   "id": "f781398f",
   "metadata": {},
   "outputs": [],
   "source": [
    "master_df = master_df.merge(agg_irs, left_on=['BoroughCensusArea', 'year'], right_on=['county', 'year'], how='left')\n",
    "master_df.drop(columns=['county'], inplace=True)"
   ]
  },
  {
   "cell_type": "markdown",
   "id": "c29581c2-5bee-4bd3-9ef3-44f5ce7e5a89",
   "metadata": {},
   "source": [
    "# Computing population density"
   ]
  },
  {
   "cell_type": "code",
   "execution_count": 70,
   "id": "c6a45465-cb4d-4943-8a3c-445c0f1c5626",
   "metadata": {},
   "outputs": [
    {
     "data": {
      "text/plain": [
       "Index(['year', 'commname', 'region', 'subreg', 'adj_households_in_community',\n",
       "       'relying_on_substinence', 'IncorporationType', 'BoroughCensusArea',\n",
       "       'NativeRegionalHealthCarePro', 'SchoolDistrict', 'ClimateRegion',\n",
       "       'EnergyRegion', 'EconomicRegion', 'sqMiLand', 'sqMiWater', 'resource',\n",
       "       'using', 'trying', 'harvesting', 'giving', 'receving',\n",
       "       'units_harvested', 'pounds_harvested', 'harv_mes_units',\n",
       "       'units_harvested_by_sample', 'lbs_harvested_percapita',\n",
       "       'lbs_harvested_by_sample', 'lbs_used_percapita',\n",
       "       'perc_contribution_to_harvest', 'median_lbs_wildfood_use_percapita',\n",
       "       'top_lbs_wildfood_use_percapita', 'labor_force', 'employed',\n",
       "       'unemployed', 'unemployment_rate', 'median_age', 'n_pop_under_14',\n",
       "       'n_pop_under_18', 'n_pop_18-65', 'n_pop_65-85', 'n_pop_over_85',\n",
       "       'n_families', 'median_family_income', 'n_households', 'n_houses',\n",
       "       'n_occupied_houses', 'house_vacancy_rate', 'n_people_below_poverty',\n",
       "       'n_households_below_poverty', 'n_people_under_18_below_poverty',\n",
       "       'n_people_18-64_below_poverty', 'n_people_65_plus_below_poverty',\n",
       "       'n_population_native', 'n_population_non_native', 'n_population_white',\n",
       "       'n_population_black', 'n_population_asian', 'n_population_male',\n",
       "       'n_population_female', 'n_total_population(ACS)', 'p_pop_under_14',\n",
       "       'p_pop_under_18', 'p_pop_18_65', 'p_pop_65_85', 'p_pop_over_85',\n",
       "       'p_families', 'p_households', 'p_occupied_houses',\n",
       "       'p_people_below_poverty', 'p_households_below_poverty',\n",
       "       'p_people_under_18_below_poverty', 'p_people_18_64_below_poverty',\n",
       "       'p_people_65_plus_below_poverty', 'p_population_native',\n",
       "       'p_population_non_native', 'p_population_white', 'p_population_black',\n",
       "       'p_population_asian', 'ratio_male_over_female', 'AGI_clean',\n",
       "       'Local_taxes_paid', 'total_tax_burden', 'local_tax_burden',\n",
       "       'federal_tax_burden', 'Number_of_returns', 'Gini', 'AGI'],\n",
       "      dtype='object')"
      ]
     },
     "execution_count": 70,
     "metadata": {},
     "output_type": "execute_result"
    }
   ],
   "source": [
    "master_df.columns"
   ]
  },
  {
   "cell_type": "code",
   "execution_count": 71,
   "id": "f1afa08d-33ba-430a-8a6b-75daf040c275",
   "metadata": {},
   "outputs": [],
   "source": [
    "master_df['pop_density'] = (master_df['n_total_population(ACS)'] / \n",
    "                            master_df['sqMiLand'].where(master_df['sqMiLand'] != 0))"
   ]
  },
  {
   "cell_type": "code",
   "execution_count": 72,
   "id": "4424f1ac-2b4d-4926-b415-31c93c3357fa",
   "metadata": {},
   "outputs": [],
   "source": [
    "master_df['pop_water_density'] = (master_df['n_total_population(ACS)'] / \n",
    "                            master_df['sqMiWater'].where(master_df['sqMiLand'] != 0))"
   ]
  },
  {
   "cell_type": "code",
   "execution_count": null,
   "id": "6457db68-0e32-4136-ba20-2cf9d9fb2167",
   "metadata": {},
   "outputs": [],
   "source": []
  },
  {
   "cell_type": "code",
   "execution_count": null,
   "id": "8ab45dd5-cef0-4236-81d4-7879c9cfeb73",
   "metadata": {},
   "outputs": [],
   "source": []
  },
  {
   "cell_type": "markdown",
   "id": "4515ed66",
   "metadata": {},
   "source": [
    "# Save as csv"
   ]
  },
  {
   "cell_type": "code",
   "execution_count": 73,
   "id": "55eaff91",
   "metadata": {},
   "outputs": [],
   "source": [
    "master_df.to_csv(os.path.join(custom_data_directory, 'master.csv'))"
   ]
  },
  {
   "cell_type": "code",
   "execution_count": 74,
   "id": "a97dce14",
   "metadata": {},
   "outputs": [
    {
     "data": {
      "text/plain": [
       "['year',\n",
       " 'commname',\n",
       " 'region',\n",
       " 'subreg',\n",
       " 'adj_households_in_community',\n",
       " 'relying_on_substinence',\n",
       " 'IncorporationType',\n",
       " 'BoroughCensusArea',\n",
       " 'NativeRegionalHealthCarePro',\n",
       " 'SchoolDistrict',\n",
       " 'ClimateRegion',\n",
       " 'EnergyRegion',\n",
       " 'EconomicRegion',\n",
       " 'sqMiLand',\n",
       " 'sqMiWater',\n",
       " 'resource',\n",
       " 'using',\n",
       " 'trying',\n",
       " 'harvesting',\n",
       " 'giving',\n",
       " 'receving',\n",
       " 'units_harvested',\n",
       " 'pounds_harvested',\n",
       " 'harv_mes_units',\n",
       " 'units_harvested_by_sample',\n",
       " 'lbs_harvested_percapita',\n",
       " 'lbs_harvested_by_sample',\n",
       " 'lbs_used_percapita',\n",
       " 'perc_contribution_to_harvest',\n",
       " 'median_lbs_wildfood_use_percapita',\n",
       " 'top_lbs_wildfood_use_percapita',\n",
       " 'labor_force',\n",
       " 'employed',\n",
       " 'unemployed',\n",
       " 'unemployment_rate',\n",
       " 'median_age',\n",
       " 'n_pop_under_14',\n",
       " 'n_pop_under_18',\n",
       " 'n_pop_18-65',\n",
       " 'n_pop_65-85',\n",
       " 'n_pop_over_85',\n",
       " 'n_families',\n",
       " 'median_family_income',\n",
       " 'n_households',\n",
       " 'n_houses',\n",
       " 'n_occupied_houses',\n",
       " 'house_vacancy_rate',\n",
       " 'n_people_below_poverty',\n",
       " 'n_households_below_poverty',\n",
       " 'n_people_under_18_below_poverty',\n",
       " 'n_people_18-64_below_poverty',\n",
       " 'n_people_65_plus_below_poverty',\n",
       " 'n_population_native',\n",
       " 'n_population_non_native',\n",
       " 'n_population_white',\n",
       " 'n_population_black',\n",
       " 'n_population_asian',\n",
       " 'n_population_male',\n",
       " 'n_population_female',\n",
       " 'n_total_population(ACS)',\n",
       " 'p_pop_under_14',\n",
       " 'p_pop_under_18',\n",
       " 'p_pop_18_65',\n",
       " 'p_pop_65_85',\n",
       " 'p_pop_over_85',\n",
       " 'p_families',\n",
       " 'p_households',\n",
       " 'p_occupied_houses',\n",
       " 'p_people_below_poverty',\n",
       " 'p_households_below_poverty',\n",
       " 'p_people_under_18_below_poverty',\n",
       " 'p_people_18_64_below_poverty',\n",
       " 'p_people_65_plus_below_poverty',\n",
       " 'p_population_native',\n",
       " 'p_population_non_native',\n",
       " 'p_population_white',\n",
       " 'p_population_black',\n",
       " 'p_population_asian',\n",
       " 'ratio_male_over_female',\n",
       " 'AGI_clean',\n",
       " 'Local_taxes_paid',\n",
       " 'total_tax_burden',\n",
       " 'local_tax_burden',\n",
       " 'federal_tax_burden',\n",
       " 'Number_of_returns',\n",
       " 'Gini',\n",
       " 'AGI',\n",
       " 'pop_density',\n",
       " 'pop_water_density']"
      ]
     },
     "execution_count": 74,
     "metadata": {},
     "output_type": "execute_result"
    }
   ],
   "source": [
    "master_df.columns.tolist()"
   ]
  },
  {
   "cell_type": "markdown",
   "id": "795b63ee",
   "metadata": {},
   "source": [
    "## TRYING STUFF"
   ]
  },
  {
   "cell_type": "code",
   "execution_count": null,
   "id": "b06bfadc-c2f3-46eb-b5c3-fcf52abf6a60",
   "metadata": {},
   "outputs": [],
   "source": []
  },
  {
   "cell_type": "code",
   "execution_count": 174,
   "id": "7ac70a0f",
   "metadata": {},
   "outputs": [
    {
     "name": "stdout",
     "output_type": "stream",
     "text": [
      "                                    OLS Regression Results                                   \n",
      "=============================================================================================\n",
      "Dep. Variable:     median_lbs_wildfood_use_percapita   R-squared:                       0.418\n",
      "Model:                                           OLS   Adj. R-squared:                  0.181\n",
      "Method:                                Least Squares   F-statistic:                     1.765\n",
      "Date:                               Thu, 27 Feb 2025   Prob (F-statistic):           0.000912\n",
      "Time:                                       22:42:53   Log-Likelihood:                -1715.0\n",
      "No. Observations:                                271   AIC:                             3588.\n",
      "Df Residuals:                                    192   BIC:                             3872.\n",
      "Df Model:                                         78                                         \n",
      "Covariance Type:                           nonrobust                                         \n",
      "==========================================================================================================\n",
      "                                             coef    std err          t      P>|t|      [0.025      0.975]\n",
      "----------------------------------------------------------------------------------------------------------\n",
      "Intercept                               2990.1145   1.27e+04      0.235      0.814   -2.21e+04    2.81e+04\n",
      "C(commname)[T.Alatna]                    525.7650   2105.737      0.250      0.803   -3627.583    4679.113\n",
      "C(commname)[T.Allakaket]                 613.6182   2105.737      0.291      0.771   -3539.730    4766.967\n",
      "C(commname)[T.Anaktuvuk Pass]            377.9452   1444.898      0.262      0.794   -2471.966    3227.856\n",
      "C(commname)[T.Anderson]                 -993.6225   4105.861     -0.242      0.809   -9092.008    7104.763\n",
      "C(commname)[T.Atqasuk]                   184.6029   1032.924      0.179      0.858   -1852.733    2221.938\n",
      "C(commname)[T.Beaver]                    527.2562   2105.737      0.250      0.803   -3626.092    4680.605\n",
      "C(commname)[T.Bethel]                    469.6821   2543.690      0.185      0.854   -4547.483    5486.848\n",
      "C(commname)[T.Bettles]                   438.8326   2105.737      0.208      0.835   -3714.516    4592.181\n",
      "C(commname)[T.Birch Creek]              -494.0274   2602.334     -0.190      0.850   -5626.861    4638.806\n",
      "C(commname)[T.Chevak]                     -5.1346    456.610     -0.011      0.991    -905.751     895.482\n",
      "C(commname)[T.Chignik Lagoon]           -910.3123   4307.942     -0.211      0.833   -9407.283    7586.658\n",
      "C(commname)[T.Chignik Lake]             -939.6830   4307.942     -0.218      0.828   -9436.654    7557.288\n",
      "C(commname)[T.Circle]                   -193.3849   1390.650     -0.139      0.890   -2936.298    2549.528\n",
      "C(commname)[T.Denali Park]             -1002.2075   4105.861     -0.244      0.807   -9100.593    7096.178\n",
      "C(commname)[T.Dillingham]              -1088.9025   4122.118     -0.264      0.792   -9219.354    7041.549\n",
      "C(commname)[T.Dot Lake]                -1491.8547   5928.464     -0.252      0.802   -1.32e+04    1.02e+04\n",
      "C(commname)[T.Dry Creek]               -1475.7384   5928.464     -0.249      0.804   -1.32e+04    1.02e+04\n",
      "C(commname)[T.Eagle]                    -756.5345   3990.153     -0.190      0.850   -8626.698    7113.629\n",
      "C(commname)[T.Egegik]                   -997.3335   4297.490     -0.232      0.817   -9473.688    7479.021\n",
      "C(commname)[T.Evansville]                419.4335   2105.737      0.199      0.842   -3733.915    4572.782\n",
      "C(commname)[T.Ferry]                    -980.5885   4105.861     -0.239      0.811   -9078.974    7117.797\n",
      "C(commname)[T.Fort Yukon]               -154.5780   1390.650     -0.111      0.912   -2897.491    2588.335\n",
      "C(commname)[T.Healy]                   -1584.1790   6501.075     -0.244      0.808   -1.44e+04    1.12e+04\n",
      "C(commname)[T.Hooper Bay]                 29.8378    456.610      0.065      0.948    -870.779     930.455\n",
      "C(commname)[T.Hughes]                   -246.6933   1554.042     -0.159      0.874   -3311.881    2818.494\n",
      "C(commname)[T.Huslia]                    -53.2027    213.472     -0.249      0.803    -474.255     367.849\n",
      "C(commname)[T.Kaltag]                   -448.9780   2602.334     -0.173      0.863   -5581.812    4683.856\n",
      "C(commname)[T.Kiana]                    -696.9972   2742.909     -0.254      0.800   -6107.102    4713.107\n",
      "C(commname)[T.King Salmon]              -817.3983   3519.203     -0.232      0.817   -7758.661    6123.864\n",
      "C(commname)[T.Kipnuk]                   -105.5366   1038.561     -0.102      0.919   -2153.990    1942.917\n",
      "C(commname)[T.Klukwan]                  -850.6066   3923.560     -0.217      0.829   -8589.422    6888.209\n",
      "C(commname)[T.Kodiak Station]          -1338.4197   4752.902     -0.282      0.779   -1.07e+04    8036.187\n",
      "C(commname)[T.Kotlik]                    542.3474   2260.147      0.240      0.811   -3915.559    5000.254\n",
      "C(commname)[T.Kotzebue]                 -240.0407   1266.972     -0.189      0.850   -2739.011    2258.930\n",
      "C(commname)[T.Koyukuk]                   -63.4244    213.472     -0.297      0.767    -484.476     357.627\n",
      "C(commname)[T.Lake Louise]              1089.2689   4871.173      0.224      0.823   -8518.617    1.07e+04\n",
      "C(commname)[T.Marshall]                  559.5776   2260.147      0.248      0.805   -3898.329    5017.484\n",
      "C(commname)[T.Mekoryuk]                 -215.1155   1038.561     -0.207      0.836   -2263.569    1833.338\n",
      "C(commname)[T.Mountain Village]          503.3606   2260.147      0.223      0.824   -3954.546    4961.267\n",
      "C(commname)[T.Naknek]                   -761.0391   3519.203     -0.216      0.829   -7702.302    6180.224\n",
      "C(commname)[T.Nanwalek]                  343.0354   1396.710      0.246      0.806   -2411.830    3097.901\n",
      "C(commname)[T.Nenana]                    255.5216    892.192      0.286      0.775   -1504.234    2015.278\n",
      "C(commname)[T.Nightmute]                 -25.7368   1038.561     -0.025      0.980   -2074.191    2022.717\n",
      "C(commname)[T.Nikiski]                   289.1735   1396.710      0.207      0.836   -2465.692    3044.039\n",
      "C(commname)[T.Northway]                 -789.4203   3471.293     -0.227      0.820   -7636.187    6057.346\n",
      "C(commname)[T.Nuiqsut]                   583.0700   1446.248      0.403      0.687   -2269.505    3435.645\n",
      "C(commname)[T.Old Harbor]              -1080.0615   5327.859     -0.203      0.840   -1.16e+04    9428.589\n",
      "C(commname)[T.Perryville]               -904.4767   4307.942     -0.210      0.834   -9401.447    7592.494\n",
      "C(commname)[T.Pilot Point]              -963.0705   4294.504     -0.224      0.823   -9433.536    7507.395\n",
      "C(commname)[T.Pilot Station]             462.6890   2260.147      0.205      0.838   -3995.218    4920.596\n",
      "C(commname)[T.Point Hope]                455.0114   1446.248      0.315      0.753   -2397.563    3307.586\n",
      "C(commname)[T.Port Graham]               326.3553   1398.731      0.233      0.816   -2432.497    3085.207\n",
      "C(commname)[T.Rampart]                  -273.5812   1554.042     -0.176      0.860   -3338.769    2791.607\n",
      "C(commname)[T.Scammon Bay]               -52.4643    683.266     -0.077      0.939   -1400.137    1295.208\n",
      "C(commname)[T.Seldovia]                  304.0684   1396.710      0.218      0.828   -2450.797    3058.934\n",
      "C(commname)[T.Shishmaref]               -451.2036   2559.564     -0.176      0.860   -5499.678    4597.271\n",
      "C(commname)[T.South Naknek]             -728.6338   3519.203     -0.207      0.836   -7669.897    6212.629\n",
      "C(commname)[T.Stevens Village]          -367.4205   1554.042     -0.236      0.813   -3432.608    2697.767\n",
      "C(commname)[T.Tanana]                   -100.8630   1554.042     -0.065      0.948   -3166.051    2964.325\n",
      "C(commname)[T.Togiak]                   -953.7692   4154.535     -0.230      0.819   -9148.159    7240.620\n",
      "C(commname)[T.Tok]                     -1237.0306   5928.464     -0.209      0.835   -1.29e+04    1.05e+04\n",
      "C(commname)[T.Twin Hills]              -1005.8595   4154.542     -0.242      0.809   -9200.263    7188.544\n",
      "C(commname)[T.Tyonek]                    838.9399   3625.419      0.231      0.817   -6311.824    7989.704\n",
      "C(commname)[T.Ugashik]                  -764.6697   4294.504     -0.178      0.859   -9235.135    7705.796\n",
      "C(commname)[T.Unalaska]                  332.3491   1707.299      0.195      0.846   -3035.122    3699.820\n",
      "C(commname)[T.Wales]                    -475.1233   2300.274     -0.207      0.837   -5012.175    4061.928\n",
      "C(year)[T.2013]                         1089.2689   4871.173      0.224      0.823   -8518.617    1.07e+04\n",
      "C(year)[T.2014]                          747.3648   3504.284      0.213      0.831   -6164.474    7659.203\n",
      "C(year)[T.2015]                          186.0177   1215.624      0.153      0.879   -2211.674    2583.710\n",
      "C(year)[T.2016]                          608.8603   3326.706      0.183      0.855   -5952.722    7170.443\n",
      "C(year)[T.2017]                          643.8304   3251.271      0.198      0.843   -5768.965    7056.626\n",
      "C(year)[T.2018]                          721.5038   3787.095      0.191      0.849   -6748.149    8191.156\n",
      "C(year)[T.2019]                          493.4750   2558.979      0.193      0.847   -4553.846    5540.796\n",
      "C(year)[T.2020]                          332.3491   1707.299      0.195      0.846   -3035.122    3699.820\n",
      "C(year)[T.2021]                          801.8799   3094.042      0.259      0.796   -5300.798    6904.558\n",
      "C(year)[T.2022]                         -116.6271    414.619     -0.281      0.779    -934.419     701.165\n",
      "C(resource)[T.Fish]                      230.0384     32.554      7.066      0.000     165.830     294.247\n",
      "C(resource)[T.Land Mammals]              125.9903     32.554      3.870      0.000      61.782     190.199\n",
      "C(resource)[T.Marine Mammals]             53.0789     33.549      1.582      0.115     -13.093     119.251\n",
      "C(resource)[T.Plants/Greens/Mushrooms]    -9.3003     32.871     -0.283      0.778     -74.135      55.535\n",
      "local_tax_burden                         602.8486   2644.498      0.228      0.820   -4613.150    5818.848\n",
      "federal_tax_burden                     -1144.9753   5031.124     -0.228      0.820   -1.11e+04    8778.397\n",
      "AGI                                        0.0005      0.002      0.231      0.818      -0.004       0.005\n",
      "labor_force[0]                            -0.0366      0.154     -0.237      0.813      -0.340       0.267\n",
      "labor_force[1]                            -0.0366      0.154     -0.237      0.813      -0.340       0.267\n",
      "unemployment_rate                        -52.4842    219.983     -0.239      0.812    -486.378     381.409\n",
      "ratio_male_over_female                 -2223.1980   9489.557     -0.234      0.815   -2.09e+04    1.65e+04\n",
      "p_population_non_native                    8.3041     33.596      0.247      0.805     -57.960      74.568\n",
      "==============================================================================\n",
      "Omnibus:                      161.902   Durbin-Watson:                   2.181\n",
      "Prob(Omnibus):                  0.000   Jarque-Bera (JB):             1316.176\n",
      "Skew:                           2.326   Prob(JB):                    1.57e-286\n",
      "Kurtosis:                      12.743   Cond. No.                     1.65e+23\n",
      "==============================================================================\n",
      "\n",
      "Notes:\n",
      "[1] Standard Errors assume that the covariance matrix of the errors is correctly specified.\n",
      "[2] The smallest eigenvalue is 3.81e-33. This might indicate that there are\n",
      "strong multicollinearity problems or that the design matrix is singular.\n"
     ]
    }
   ],
   "source": [
    "import statsmodels.formula.api as smf\n",
    "\n",
    "df_to_run = master_df[[\"median_lbs_wildfood_use_percapita\", \n",
    "                       \"local_tax_burden\", \n",
    "                       \"federal_tax_burden\",\n",
    "                       \"unemployment_rate\",\n",
    "                       \"AGI\", \n",
    "                       # \"Gini\", \n",
    "                       \"labor_force\", \n",
    "                       \"ratio_male_over_female\",\n",
    "                       \"p_population_non_native\",\n",
    "                       \"commname\", \n",
    "                       \"year\",\n",
    "                      \"resource\",\n",
    "                      \"labor_force\"]]\n",
    "df_to_run = df_to_run.dropna()\n",
    "\n",
    "# Run OLS with community (commname) and year fixed effects\n",
    "# model = smf.ols(\n",
    "#     \"median_lbs_wildfood_use_percapita ~ local_tax_burden + federal_tax_burden + AGI_clean + n_people_below_poverty + unemployment_rate + ratio_male_over_female + C(commname) + C(year)\",\n",
    "#     data=df_to_run\n",
    "# ).fit()\n",
    "\n",
    "model = smf.ols(\n",
    "    \"median_lbs_wildfood_use_percapita ~ local_tax_burden + federal_tax_burden + AGI + labor_force + unemployment_rate + ratio_male_over_female + p_population_non_native + C(commname) + C(year) + C(resource)\",\n",
    "    data=df_to_run\n",
    ").fit()\n",
    "\n",
    "print(model.summary())\n"
   ]
  },
  {
   "cell_type": "code",
   "execution_count": 175,
   "id": "ed05b6b3",
   "metadata": {},
   "outputs": [
    {
     "name": "stdout",
     "output_type": "stream",
     "text": [
      "R-squared: 0.41757307384089426\n",
      "Adjusted R-squared: 0.18096213508875758\n",
      "F-statistic: 1.764808829393664\n",
      "Overall model p-value: 0.0009121794943358185\n",
      "\n",
      "Coefficients for key variables:\n"
     ]
    },
    {
     "ename": "KeyError",
     "evalue": "\"['p_people_below_poverty'] not in index\"",
     "output_type": "error",
     "traceback": [
      "\u001b[0;31m---------------------------------------------------------------------------\u001b[0m",
      "\u001b[0;31mKeyError\u001b[0m                                  Traceback (most recent call last)",
      "Cell \u001b[0;32mIn[175], line 17\u001b[0m\n\u001b[1;32m      8\u001b[0m main_vars \u001b[38;5;241m=\u001b[39m [\u001b[38;5;124m'\u001b[39m\u001b[38;5;124mlocal_tax_burden\u001b[39m\u001b[38;5;124m'\u001b[39m, \n\u001b[1;32m      9\u001b[0m              \u001b[38;5;124m'\u001b[39m\u001b[38;5;124mfederal_tax_burden\u001b[39m\u001b[38;5;124m'\u001b[39m, \n\u001b[1;32m     10\u001b[0m              \u001b[38;5;124m'\u001b[39m\u001b[38;5;124mAGI\u001b[39m\u001b[38;5;124m'\u001b[39m, \n\u001b[0;32m   (...)\u001b[0m\n\u001b[1;32m     14\u001b[0m             \u001b[38;5;124m'\u001b[39m\u001b[38;5;124mratio_male_over_female\u001b[39m\u001b[38;5;124m'\u001b[39m,\n\u001b[1;32m     15\u001b[0m             \u001b[38;5;124m'\u001b[39m\u001b[38;5;124mp_population_non_native\u001b[39m\u001b[38;5;124m'\u001b[39m]\n\u001b[1;32m     16\u001b[0m \u001b[38;5;28mprint\u001b[39m(\u001b[38;5;124m\"\u001b[39m\u001b[38;5;130;01m\\n\u001b[39;00m\u001b[38;5;124mCoefficients for key variables:\u001b[39m\u001b[38;5;124m\"\u001b[39m)\n\u001b[0;32m---> 17\u001b[0m \u001b[38;5;28mprint\u001b[39m(\u001b[43mmodel\u001b[49m\u001b[38;5;241;43m.\u001b[39;49m\u001b[43mparams\u001b[49m\u001b[43m[\u001b[49m\u001b[43mmain_vars\u001b[49m\u001b[43m]\u001b[49m)\n\u001b[1;32m     18\u001b[0m \u001b[38;5;28mprint\u001b[39m(\u001b[38;5;124m\"\u001b[39m\u001b[38;5;130;01m\\n\u001b[39;00m\u001b[38;5;124mP-values for key variables:\u001b[39m\u001b[38;5;124m\"\u001b[39m)\n\u001b[1;32m     19\u001b[0m \u001b[38;5;28mprint\u001b[39m(model\u001b[38;5;241m.\u001b[39mpvalues[main_vars])\n",
      "File \u001b[0;32m~/.pyenv/versions/3.10.12/lib/python3.10/site-packages/pandas/core/series.py:1153\u001b[0m, in \u001b[0;36mSeries.__getitem__\u001b[0;34m(self, key)\u001b[0m\n\u001b[1;32m   1150\u001b[0m     key \u001b[38;5;241m=\u001b[39m np\u001b[38;5;241m.\u001b[39masarray(key, dtype\u001b[38;5;241m=\u001b[39m\u001b[38;5;28mbool\u001b[39m)\n\u001b[1;32m   1151\u001b[0m     \u001b[38;5;28;01mreturn\u001b[39;00m \u001b[38;5;28mself\u001b[39m\u001b[38;5;241m.\u001b[39m_get_rows_with_mask(key)\n\u001b[0;32m-> 1153\u001b[0m \u001b[38;5;28;01mreturn\u001b[39;00m \u001b[38;5;28;43mself\u001b[39;49m\u001b[38;5;241;43m.\u001b[39;49m\u001b[43m_get_with\u001b[49m\u001b[43m(\u001b[49m\u001b[43mkey\u001b[49m\u001b[43m)\u001b[49m\n",
      "File \u001b[0;32m~/.pyenv/versions/3.10.12/lib/python3.10/site-packages/pandas/core/series.py:1194\u001b[0m, in \u001b[0;36mSeries._get_with\u001b[0;34m(self, key)\u001b[0m\n\u001b[1;32m   1191\u001b[0m         \u001b[38;5;28;01mreturn\u001b[39;00m \u001b[38;5;28mself\u001b[39m\u001b[38;5;241m.\u001b[39miloc[key]\n\u001b[1;32m   1193\u001b[0m \u001b[38;5;66;03m# handle the dup indexing case GH#4246\u001b[39;00m\n\u001b[0;32m-> 1194\u001b[0m \u001b[38;5;28;01mreturn\u001b[39;00m \u001b[38;5;28;43mself\u001b[39;49m\u001b[38;5;241;43m.\u001b[39;49m\u001b[43mloc\u001b[49m\u001b[43m[\u001b[49m\u001b[43mkey\u001b[49m\u001b[43m]\u001b[49m\n",
      "File \u001b[0;32m~/.pyenv/versions/3.10.12/lib/python3.10/site-packages/pandas/core/indexing.py:1191\u001b[0m, in \u001b[0;36m_LocationIndexer.__getitem__\u001b[0;34m(self, key)\u001b[0m\n\u001b[1;32m   1189\u001b[0m maybe_callable \u001b[38;5;241m=\u001b[39m com\u001b[38;5;241m.\u001b[39mapply_if_callable(key, \u001b[38;5;28mself\u001b[39m\u001b[38;5;241m.\u001b[39mobj)\n\u001b[1;32m   1190\u001b[0m maybe_callable \u001b[38;5;241m=\u001b[39m \u001b[38;5;28mself\u001b[39m\u001b[38;5;241m.\u001b[39m_check_deprecated_callable_usage(key, maybe_callable)\n\u001b[0;32m-> 1191\u001b[0m \u001b[38;5;28;01mreturn\u001b[39;00m \u001b[38;5;28;43mself\u001b[39;49m\u001b[38;5;241;43m.\u001b[39;49m\u001b[43m_getitem_axis\u001b[49m\u001b[43m(\u001b[49m\u001b[43mmaybe_callable\u001b[49m\u001b[43m,\u001b[49m\u001b[43m \u001b[49m\u001b[43maxis\u001b[49m\u001b[38;5;241;43m=\u001b[39;49m\u001b[43maxis\u001b[49m\u001b[43m)\u001b[49m\n",
      "File \u001b[0;32m~/.pyenv/versions/3.10.12/lib/python3.10/site-packages/pandas/core/indexing.py:1420\u001b[0m, in \u001b[0;36m_LocIndexer._getitem_axis\u001b[0;34m(self, key, axis)\u001b[0m\n\u001b[1;32m   1417\u001b[0m     \u001b[38;5;28;01mif\u001b[39;00m \u001b[38;5;28mhasattr\u001b[39m(key, \u001b[38;5;124m\"\u001b[39m\u001b[38;5;124mndim\u001b[39m\u001b[38;5;124m\"\u001b[39m) \u001b[38;5;129;01mand\u001b[39;00m key\u001b[38;5;241m.\u001b[39mndim \u001b[38;5;241m>\u001b[39m \u001b[38;5;241m1\u001b[39m:\n\u001b[1;32m   1418\u001b[0m         \u001b[38;5;28;01mraise\u001b[39;00m \u001b[38;5;167;01mValueError\u001b[39;00m(\u001b[38;5;124m\"\u001b[39m\u001b[38;5;124mCannot index with multidimensional key\u001b[39m\u001b[38;5;124m\"\u001b[39m)\n\u001b[0;32m-> 1420\u001b[0m     \u001b[38;5;28;01mreturn\u001b[39;00m \u001b[38;5;28;43mself\u001b[39;49m\u001b[38;5;241;43m.\u001b[39;49m\u001b[43m_getitem_iterable\u001b[49m\u001b[43m(\u001b[49m\u001b[43mkey\u001b[49m\u001b[43m,\u001b[49m\u001b[43m \u001b[49m\u001b[43maxis\u001b[49m\u001b[38;5;241;43m=\u001b[39;49m\u001b[43maxis\u001b[49m\u001b[43m)\u001b[49m\n\u001b[1;32m   1422\u001b[0m \u001b[38;5;66;03m# nested tuple slicing\u001b[39;00m\n\u001b[1;32m   1423\u001b[0m \u001b[38;5;28;01mif\u001b[39;00m is_nested_tuple(key, labels):\n",
      "File \u001b[0;32m~/.pyenv/versions/3.10.12/lib/python3.10/site-packages/pandas/core/indexing.py:1360\u001b[0m, in \u001b[0;36m_LocIndexer._getitem_iterable\u001b[0;34m(self, key, axis)\u001b[0m\n\u001b[1;32m   1357\u001b[0m \u001b[38;5;28mself\u001b[39m\u001b[38;5;241m.\u001b[39m_validate_key(key, axis)\n\u001b[1;32m   1359\u001b[0m \u001b[38;5;66;03m# A collection of keys\u001b[39;00m\n\u001b[0;32m-> 1360\u001b[0m keyarr, indexer \u001b[38;5;241m=\u001b[39m \u001b[38;5;28;43mself\u001b[39;49m\u001b[38;5;241;43m.\u001b[39;49m\u001b[43m_get_listlike_indexer\u001b[49m\u001b[43m(\u001b[49m\u001b[43mkey\u001b[49m\u001b[43m,\u001b[49m\u001b[43m \u001b[49m\u001b[43maxis\u001b[49m\u001b[43m)\u001b[49m\n\u001b[1;32m   1361\u001b[0m \u001b[38;5;28;01mreturn\u001b[39;00m \u001b[38;5;28mself\u001b[39m\u001b[38;5;241m.\u001b[39mobj\u001b[38;5;241m.\u001b[39m_reindex_with_indexers(\n\u001b[1;32m   1362\u001b[0m     {axis: [keyarr, indexer]}, copy\u001b[38;5;241m=\u001b[39m\u001b[38;5;28;01mTrue\u001b[39;00m, allow_dups\u001b[38;5;241m=\u001b[39m\u001b[38;5;28;01mTrue\u001b[39;00m\n\u001b[1;32m   1363\u001b[0m )\n",
      "File \u001b[0;32m~/.pyenv/versions/3.10.12/lib/python3.10/site-packages/pandas/core/indexing.py:1558\u001b[0m, in \u001b[0;36m_LocIndexer._get_listlike_indexer\u001b[0;34m(self, key, axis)\u001b[0m\n\u001b[1;32m   1555\u001b[0m ax \u001b[38;5;241m=\u001b[39m \u001b[38;5;28mself\u001b[39m\u001b[38;5;241m.\u001b[39mobj\u001b[38;5;241m.\u001b[39m_get_axis(axis)\n\u001b[1;32m   1556\u001b[0m axis_name \u001b[38;5;241m=\u001b[39m \u001b[38;5;28mself\u001b[39m\u001b[38;5;241m.\u001b[39mobj\u001b[38;5;241m.\u001b[39m_get_axis_name(axis)\n\u001b[0;32m-> 1558\u001b[0m keyarr, indexer \u001b[38;5;241m=\u001b[39m \u001b[43max\u001b[49m\u001b[38;5;241;43m.\u001b[39;49m\u001b[43m_get_indexer_strict\u001b[49m\u001b[43m(\u001b[49m\u001b[43mkey\u001b[49m\u001b[43m,\u001b[49m\u001b[43m \u001b[49m\u001b[43maxis_name\u001b[49m\u001b[43m)\u001b[49m\n\u001b[1;32m   1560\u001b[0m \u001b[38;5;28;01mreturn\u001b[39;00m keyarr, indexer\n",
      "File \u001b[0;32m~/.pyenv/versions/3.10.12/lib/python3.10/site-packages/pandas/core/indexes/base.py:6200\u001b[0m, in \u001b[0;36mIndex._get_indexer_strict\u001b[0;34m(self, key, axis_name)\u001b[0m\n\u001b[1;32m   6197\u001b[0m \u001b[38;5;28;01melse\u001b[39;00m:\n\u001b[1;32m   6198\u001b[0m     keyarr, indexer, new_indexer \u001b[38;5;241m=\u001b[39m \u001b[38;5;28mself\u001b[39m\u001b[38;5;241m.\u001b[39m_reindex_non_unique(keyarr)\n\u001b[0;32m-> 6200\u001b[0m \u001b[38;5;28;43mself\u001b[39;49m\u001b[38;5;241;43m.\u001b[39;49m\u001b[43m_raise_if_missing\u001b[49m\u001b[43m(\u001b[49m\u001b[43mkeyarr\u001b[49m\u001b[43m,\u001b[49m\u001b[43m \u001b[49m\u001b[43mindexer\u001b[49m\u001b[43m,\u001b[49m\u001b[43m \u001b[49m\u001b[43maxis_name\u001b[49m\u001b[43m)\u001b[49m\n\u001b[1;32m   6202\u001b[0m keyarr \u001b[38;5;241m=\u001b[39m \u001b[38;5;28mself\u001b[39m\u001b[38;5;241m.\u001b[39mtake(indexer)\n\u001b[1;32m   6203\u001b[0m \u001b[38;5;28;01mif\u001b[39;00m \u001b[38;5;28misinstance\u001b[39m(key, Index):\n\u001b[1;32m   6204\u001b[0m     \u001b[38;5;66;03m# GH 42790 - Preserve name from an Index\u001b[39;00m\n",
      "File \u001b[0;32m~/.pyenv/versions/3.10.12/lib/python3.10/site-packages/pandas/core/indexes/base.py:6252\u001b[0m, in \u001b[0;36mIndex._raise_if_missing\u001b[0;34m(self, key, indexer, axis_name)\u001b[0m\n\u001b[1;32m   6249\u001b[0m     \u001b[38;5;28;01mraise\u001b[39;00m \u001b[38;5;167;01mKeyError\u001b[39;00m(\u001b[38;5;124mf\u001b[39m\u001b[38;5;124m\"\u001b[39m\u001b[38;5;124mNone of [\u001b[39m\u001b[38;5;132;01m{\u001b[39;00mkey\u001b[38;5;132;01m}\u001b[39;00m\u001b[38;5;124m] are in the [\u001b[39m\u001b[38;5;132;01m{\u001b[39;00maxis_name\u001b[38;5;132;01m}\u001b[39;00m\u001b[38;5;124m]\u001b[39m\u001b[38;5;124m\"\u001b[39m)\n\u001b[1;32m   6251\u001b[0m not_found \u001b[38;5;241m=\u001b[39m \u001b[38;5;28mlist\u001b[39m(ensure_index(key)[missing_mask\u001b[38;5;241m.\u001b[39mnonzero()[\u001b[38;5;241m0\u001b[39m]]\u001b[38;5;241m.\u001b[39munique())\n\u001b[0;32m-> 6252\u001b[0m \u001b[38;5;28;01mraise\u001b[39;00m \u001b[38;5;167;01mKeyError\u001b[39;00m(\u001b[38;5;124mf\u001b[39m\u001b[38;5;124m\"\u001b[39m\u001b[38;5;132;01m{\u001b[39;00mnot_found\u001b[38;5;132;01m}\u001b[39;00m\u001b[38;5;124m not in index\u001b[39m\u001b[38;5;124m\"\u001b[39m)\n",
      "\u001b[0;31mKeyError\u001b[0m: \"['p_people_below_poverty'] not in index\""
     ]
    }
   ],
   "source": [
    "# Overall model summary statistics\n",
    "print(\"R-squared:\", model.rsquared)\n",
    "print(\"Adjusted R-squared:\", model.rsquared_adj)\n",
    "print(\"F-statistic:\", model.fvalue)\n",
    "print(\"Overall model p-value:\", model.f_pvalue)\n",
    "\n",
    "# Extract coefficients and p-values for your main regressors\n",
    "main_vars = ['local_tax_burden', \n",
    "             'federal_tax_burden', \n",
    "             'AGI', \n",
    "             # 'Gini', \n",
    "             'unemployment_rate',\n",
    "             'p_people_below_poverty',\n",
    "            'ratio_male_over_female',\n",
    "            'p_population_non_native']\n",
    "print(\"\\nCoefficients for key variables:\")\n",
    "print(model.params[main_vars])\n",
    "print(\"\\nP-values for key variables:\")\n",
    "print(model.pvalues[main_vars])\n"
   ]
  },
  {
   "cell_type": "code",
   "execution_count": null,
   "id": "4f05fd80-c310-4e81-aa9f-83499e1a457c",
   "metadata": {},
   "outputs": [],
   "source": [
    "import seaborn as sns\n",
    "\n",
    "sns.lmplot(\n",
    "    x=\"p_people_below_poverty\",\n",
    "    y=\"median_lbs_wildfood_use_percapita\",\n",
    "    hue=\"commname\",  # Different colors for each community\n",
    "    data=df_to_run,\n",
    "    height=6,\n",
    "    aspect=1.5\n",
    ")\n",
    "\n",
    "plt.title(\"Regression: Federal Tax Burden vs. Wild Food Use by Community\")\n",
    "plt.show()\n"
   ]
  },
  {
   "cell_type": "code",
   "execution_count": null,
   "id": "abaf1d39-5eba-43fc-b686-8d0d6e5ece6c",
   "metadata": {},
   "outputs": [],
   "source": []
  },
  {
   "cell_type": "code",
   "execution_count": null,
   "id": "29122035-95f3-4506-9bf8-e2893dda3411",
   "metadata": {},
   "outputs": [],
   "source": [
    "import pandas as pd\n",
    "import statsmodels.formula.api as smf\n",
    "import numpy as np\n",
    "\n",
    "# Ensure population weights are correctly set\n",
    "weights = master_df.set_index([\"BoroughCensusArea\", \"year\"])[\"n_total_population(ACS)\"]\n",
    "\n",
    "# Aggregate community-level data to the borough level\n",
    "borough_df = master_df.groupby([\"BoroughCensusArea\", \"year\"], observed=True).apply(\n",
    "    lambda g: pd.Series({\n",
    "        \"median_lbs_wildfood_use_percapita\": (\n",
    "            (g[\"median_lbs_wildfood_use_percapita\"] * g[\"n_total_population(ACS)\"]).sum() / g[\"n_total_population(ACS)\"].sum()\n",
    "            if g[\"n_total_population(ACS)\"].sum() > 0 else np.nan\n",
    "        ),\n",
    "        \"units_harvested\": g[\"units_harvested\"].sum(),  # Total harvest per borough\n",
    "        \"giving\": (\n",
    "            (g[\"giving\"] * g[\"n_total_population(ACS)\"]).sum() / g[\"n_total_population(ACS)\"].sum()\n",
    "            if g[\"n_total_population(ACS)\"].sum() > 0 else np.nan\n",
    "        ),\n",
    "        \"receving\": (\n",
    "            (g[\"receving\"] * g[\"n_total_population(ACS)\"]).sum() / g[\"n_total_population(ACS)\"].sum()\n",
    "            if g[\"n_total_population(ACS)\"].sum() > 0 else np.nan\n",
    "        )\n",
    "    }),\n",
    "    include_groups=False  # ✅ Fixes the deprecation warning\n",
    ").reset_index()\n",
    "\n",
    "\n",
    "# Merge borough-level variables (taxes, unemployment, etc.)\n",
    "borough_df = borough_df.merge(\n",
    "    master_df[[\"BoroughCensusArea\", \"year\", \"resource\", \"local_tax_burden\", \"federal_tax_burden\", \n",
    "               \"unemployment_rate\", \"AGI\", \"labor_force\", \"ratio_male_over_female\", \n",
    "               \"p_population_non_native\"]].drop_duplicates(),\n",
    "    on=[\"BoroughCensusArea\", \"year\"],\n",
    "    how=\"left\"\n",
    ")\n",
    "\n",
    "# Filter for years 2012-2022\n",
    "borough_df = borough_df[(borough_df[\"year\"] >= 2012) & (borough_df[\"year\"] <= 2022)]\n",
    "\n",
    "# Drop NaN values before regression\n",
    "borough_df = borough_df.dropna()\n",
    "\n",
    "# Run the regression at the Borough level\n",
    "model = smf.ols(\n",
    "    \"median_lbs_wildfood_use_percapita ~ local_tax_burden + federal_tax_burden + AGI + labor_force + unemployment_rate + ratio_male_over_female + p_population_non_native + C(BoroughCensusArea) + C(year) + C(resource)\",\n",
    "    data=borough_df\n",
    ").fit()\n",
    "\n",
    "print(model.summary())\n"
   ]
  },
  {
   "cell_type": "code",
   "execution_count": null,
   "id": "cd586526-f29c-42c4-aa80-308296d72056",
   "metadata": {},
   "outputs": [],
   "source": []
  },
  {
   "cell_type": "code",
   "execution_count": null,
   "id": "f7ab0439-ea17-4d6c-9604-57863e6fbc44",
   "metadata": {
    "scrolled": true
   },
   "outputs": [],
   "source": [
    "from statsmodels.stats.outliers_influence import variance_inflation_factor\n",
    "import statsmodels.api as sm\n",
    "import pandas as pd\n",
    "\n",
    "# Drop categorical variables before computing VIF\n",
    "X = borough_df.drop(columns=[\"median_lbs_wildfood_use_percapita\", \"year\", \"BoroughCensusArea\", \"resource\"], errors=\"ignore\")\n",
    "\n",
    "# Add constant for the intercept\n",
    "X = sm.add_constant(X)\n",
    "\n",
    "# Compute VIF\n",
    "vif_data = pd.DataFrame()\n",
    "vif_data[\"Variable\"] = X.columns\n",
    "vif_data[\"VIF\"] = [variance_inflation_factor(X.values, i) for i in range(X.shape[1])]\n",
    "\n",
    "print(vif_data)\n"
   ]
  },
  {
   "cell_type": "code",
   "execution_count": null,
   "id": "59764c9f-51a4-4865-b436-3d7a6af67ef2",
   "metadata": {},
   "outputs": [],
   "source": []
  },
  {
   "cell_type": "code",
   "execution_count": null,
   "id": "8ba1c535-4037-41c7-bd70-47ba920d02d0",
   "metadata": {},
   "outputs": [],
   "source": []
  },
  {
   "cell_type": "code",
   "execution_count": null,
   "id": "6e5ed2c3-1fbb-4d28-920d-911300c8cd3b",
   "metadata": {},
   "outputs": [],
   "source": [
    "import pandas as pd\n",
    "import statsmodels.formula.api as smf\n",
    "import statsmodels.api as sm\n",
    "from statsmodels.stats.outliers_influence import variance_inflation_factor\n",
    "\n",
    "# Drop highly collinear variable ('giving') to reduce multicollinearity\n",
    "borough_df = borough_df.drop(columns=[\"giving\"])\n",
    "\n",
    "# Ensure 'resource' is treated as categorical\n",
    "borough_df[\"resource\"] = borough_df[\"resource\"].astype(\"category\")\n",
    "\n",
    "# Define independent and dependent variables\n",
    "X_cols = [\"local_tax_burden\", \n",
    "          \"federal_tax_burden\", \n",
    "          \"AGI\", \n",
    "          \"labor_force\", \n",
    "          \"unemployment_rate\", \n",
    "          \"ratio_male_over_female\", \n",
    "          \"p_population_non_native\", \n",
    "          \"receving\",  # Keeping this instead of 'giving'\n",
    "          \"C(resource)\", \n",
    "          \"C(year)\", \n",
    "          \"C(BoroughCensusArea)\"]\n",
    "\n",
    "# Build regression formula\n",
    "formula = \"median_lbs_wildfood_use_percapita ~ \" + \" + \".join(X_cols)\n",
    "\n",
    "# Run OLS regression with fixed effects\n",
    "model = smf.ols(formula=formula, data=borough_df).fit()\n",
    "\n",
    "# Print regression summary\n",
    "print(model.summary())\n",
    "\n",
    "# ---- VIF CHECK ----\n",
    "# Drop categorical variables before computing VIF\n",
    "X_vif = borough_df.drop(columns=[\"median_lbs_wildfood_use_percapita\", \"BoroughCensusArea\", \"year\", \"resource\"])\n",
    "X_vif = sm.add_constant(X_vif)  # Add constant for intercept\n",
    "\n",
    "# Compute VIF\n",
    "vif_data = pd.DataFrame()\n",
    "vif_data[\"Variable\"] = X_vif.columns\n",
    "vif_data[\"VIF\"] = [variance_inflation_factor(X_vif.values, i) for i in range(X_vif.shape[1])]\n",
    "\n",
    "# Print VIF results\n",
    "print(\"\\nVariance Inflation Factor (VIF) Results:\")\n",
    "print(vif_data)\n"
   ]
  },
  {
   "cell_type": "code",
   "execution_count": null,
   "id": "92a4d1f0-58fb-4fc7-bec1-97e34e4a55d8",
   "metadata": {},
   "outputs": [],
   "source": []
  },
  {
   "cell_type": "code",
   "execution_count": null,
   "id": "fb68933b-2caf-4aba-89f9-e6fde1a528ee",
   "metadata": {},
   "outputs": [],
   "source": []
  },
  {
   "cell_type": "code",
   "execution_count": null,
   "id": "f8c50748-46cd-4064-8313-674bb5571272",
   "metadata": {},
   "outputs": [],
   "source": [
    "borough_df[\"log_wildfood\"] = np.log1p(borough_df[\"median_lbs_wildfood_use_percapita\"])\n",
    "\n",
    "\n",
    "model = smf.ols(\n",
    "    \"log_wildfood ~ federal_tax_burden + AGI + labor_force + unemployment_rate + ratio_male_over_female + p_population_non_native + C(resource) + C(year) + C(BoroughCensusArea)\",\n",
    "    data=borough_df\n",
    ").fit()\n",
    "\n",
    "print(model.summary())\n",
    "\n"
   ]
  },
  {
   "cell_type": "code",
   "execution_count": null,
   "id": "1fe50204-490a-4b36-b071-b58d96d2bc39",
   "metadata": {},
   "outputs": [],
   "source": [
    "model = smf.ols(formula, data=borough_df).fit(cov_type='HC3')\n",
    "print(model.summary())\n"
   ]
  },
  {
   "cell_type": "code",
   "execution_count": null,
   "id": "93ea90f6-6541-4850-8316-d2627efd59d2",
   "metadata": {},
   "outputs": [],
   "source": []
  },
  {
   "cell_type": "code",
   "execution_count": null,
   "id": "beea1fa3-c142-4cb1-b8e5-76e65afa947c",
   "metadata": {},
   "outputs": [],
   "source": []
  },
  {
   "cell_type": "code",
   "execution_count": null,
   "id": "2857dad8-694c-4a70-9f32-a761e96b935f",
   "metadata": {},
   "outputs": [],
   "source": [
    "model = smf.ols(\n",
    "    \"log_wildfood ~ C(BoroughCensusArea) * C(resource) * C(year) + local_tax_burden + federal_tax_burden + AGI + unemployment_rate + ratio_male_over_female + p_population_non_native\",\n",
    "    data=borough_df\n",
    ").fit()\n",
    "\n",
    "\n",
    "print(model.summary())\n"
   ]
  },
  {
   "cell_type": "code",
   "execution_count": null,
   "id": "d5a2cbb0-4dc6-4b19-a1b8-ecc4563c702c",
   "metadata": {},
   "outputs": [],
   "source": []
  },
  {
   "cell_type": "code",
   "execution_count": null,
   "id": "bbaee3c8-dd7f-4290-93a3-05509a6006a1",
   "metadata": {},
   "outputs": [],
   "source": []
  },
  {
   "cell_type": "code",
   "execution_count": null,
   "id": "027804eb-b511-4221-9868-3ffb59ed869e",
   "metadata": {},
   "outputs": [],
   "source": []
  },
  {
   "cell_type": "code",
   "execution_count": null,
   "id": "f0a5cd74-9ded-4a8b-9d48-d9fba6410b91",
   "metadata": {},
   "outputs": [],
   "source": []
  },
  {
   "cell_type": "code",
   "execution_count": null,
   "id": "bd737a9f-bea6-42b4-988e-d368b969420c",
   "metadata": {},
   "outputs": [],
   "source": []
  },
  {
   "cell_type": "code",
   "execution_count": null,
   "id": "fb724f11-0ccf-421b-95c3-31a7583e7b4d",
   "metadata": {},
   "outputs": [],
   "source": []
  },
  {
   "cell_type": "code",
   "execution_count": null,
   "id": "a757469c-6061-4944-9ef6-502687fa510c",
   "metadata": {},
   "outputs": [],
   "source": []
  }
 ],
 "metadata": {
  "kernelspec": {
   "display_name": "Python 3 (ipykernel)",
   "language": "python",
   "name": "python3"
  },
  "language_info": {
   "codemirror_mode": {
    "name": "ipython",
    "version": 3
   },
   "file_extension": ".py",
   "mimetype": "text/x-python",
   "name": "python",
   "nbconvert_exporter": "python",
   "pygments_lexer": "ipython3",
   "version": "3.10.12"
  }
 },
 "nbformat": 4,
 "nbformat_minor": 5
}
